{
 "cells": [
  {
   "cell_type": "markdown",
   "metadata": {},
   "source": [
    "# Forest Fire Incidence in Northern Algeria: Report"
   ]
  },
  {
   "cell_type": "code",
   "execution_count": 1,
   "metadata": {},
   "outputs": [
    {
     "name": "stderr",
     "output_type": "stream",
     "text": [
      "── \u001b[1mAttaching packages\u001b[22m ─────────────────────────────────────── tidyverse 1.3.0 ──\n",
      "\n",
      "\u001b[32m✔\u001b[39m \u001b[34mggplot2\u001b[39m 3.3.2     \u001b[32m✔\u001b[39m \u001b[34mpurrr  \u001b[39m 0.3.4\n",
      "\u001b[32m✔\u001b[39m \u001b[34mtibble \u001b[39m 3.0.3     \u001b[32m✔\u001b[39m \u001b[34mdplyr  \u001b[39m 1.0.2\n",
      "\u001b[32m✔\u001b[39m \u001b[34mtidyr  \u001b[39m 1.1.2     \u001b[32m✔\u001b[39m \u001b[34mstringr\u001b[39m 1.4.0\n",
      "\u001b[32m✔\u001b[39m \u001b[34mreadr  \u001b[39m 1.3.1     \u001b[32m✔\u001b[39m \u001b[34mforcats\u001b[39m 0.5.0\n",
      "\n",
      "Warning message:\n",
      "“package ‘ggplot2’ was built under R version 4.0.1”\n",
      "Warning message:\n",
      "“package ‘tibble’ was built under R version 4.0.2”\n",
      "Warning message:\n",
      "“package ‘tidyr’ was built under R version 4.0.2”\n",
      "Warning message:\n",
      "“package ‘dplyr’ was built under R version 4.0.2”\n",
      "── \u001b[1mConflicts\u001b[22m ────────────────────────────────────────── tidyverse_conflicts() ──\n",
      "\u001b[31m✖\u001b[39m \u001b[34mdplyr\u001b[39m::\u001b[32mfilter()\u001b[39m masks \u001b[34mstats\u001b[39m::filter()\n",
      "\u001b[31m✖\u001b[39m \u001b[34mdplyr\u001b[39m::\u001b[32mlag()\u001b[39m    masks \u001b[34mstats\u001b[39m::lag()\n",
      "\n",
      "Warning message:\n",
      "“package ‘tidymodels’ was built under R version 4.0.2”\n",
      "── \u001b[1mAttaching packages\u001b[22m ────────────────────────────────────── tidymodels 0.1.1 ──\n",
      "\n",
      "\u001b[32m✔\u001b[39m \u001b[34mbroom    \u001b[39m 0.7.0      \u001b[32m✔\u001b[39m \u001b[34mrecipes  \u001b[39m 0.1.13\n",
      "\u001b[32m✔\u001b[39m \u001b[34mdials    \u001b[39m 0.0.9      \u001b[32m✔\u001b[39m \u001b[34mrsample  \u001b[39m 0.0.7 \n",
      "\u001b[32m✔\u001b[39m \u001b[34minfer    \u001b[39m 0.5.4      \u001b[32m✔\u001b[39m \u001b[34mtune     \u001b[39m 0.1.1 \n",
      "\u001b[32m✔\u001b[39m \u001b[34mmodeldata\u001b[39m 0.0.2      \u001b[32m✔\u001b[39m \u001b[34mworkflows\u001b[39m 0.2.0 \n",
      "\u001b[32m✔\u001b[39m \u001b[34mparsnip  \u001b[39m 0.1.3      \u001b[32m✔\u001b[39m \u001b[34myardstick\u001b[39m 0.0.7 \n",
      "\n",
      "Warning message:\n",
      "“package ‘broom’ was built under R version 4.0.2”\n",
      "Warning message:\n",
      "“package ‘dials’ was built under R version 4.0.2”\n",
      "Warning message:\n",
      "“package ‘infer’ was built under R version 4.0.3”\n",
      "Warning message:\n",
      "“package ‘modeldata’ was built under R version 4.0.1”\n",
      "Warning message:\n",
      "“package ‘parsnip’ was built under R version 4.0.2”\n",
      "Warning message:\n",
      "“package ‘recipes’ was built under R version 4.0.1”\n",
      "Warning message:\n",
      "“package ‘tune’ was built under R version 4.0.2”\n",
      "Warning message:\n",
      "“package ‘workflows’ was built under R version 4.0.2”\n",
      "Warning message:\n",
      "“package ‘yardstick’ was built under R version 4.0.2”\n",
      "── \u001b[1mConflicts\u001b[22m ───────────────────────────────────────── tidymodels_conflicts() ──\n",
      "\u001b[31m✖\u001b[39m \u001b[34mscales\u001b[39m::\u001b[32mdiscard()\u001b[39m masks \u001b[34mpurrr\u001b[39m::discard()\n",
      "\u001b[31m✖\u001b[39m \u001b[34mdplyr\u001b[39m::\u001b[32mfilter()\u001b[39m   masks \u001b[34mstats\u001b[39m::filter()\n",
      "\u001b[31m✖\u001b[39m \u001b[34mrecipes\u001b[39m::\u001b[32mfixed()\u001b[39m  masks \u001b[34mstringr\u001b[39m::fixed()\n",
      "\u001b[31m✖\u001b[39m \u001b[34mdplyr\u001b[39m::\u001b[32mlag()\u001b[39m      masks \u001b[34mstats\u001b[39m::lag()\n",
      "\u001b[31m✖\u001b[39m \u001b[34myardstick\u001b[39m::\u001b[32mspec()\u001b[39m masks \u001b[34mreadr\u001b[39m::spec()\n",
      "\u001b[31m✖\u001b[39m \u001b[34mrecipes\u001b[39m::\u001b[32mstep()\u001b[39m   masks \u001b[34mstats\u001b[39m::step()\n",
      "\n",
      "Warning message:\n",
      "“package ‘cowplot’ was built under R version 4.0.3”\n"
     ]
    }
   ],
   "source": [
    "library(tidyverse)\n",
    "library(tidymodels)\n",
    "library(cowplot)\n",
    "options(repr.matrix.max.rows = 8)"
   ]
  },
  {
   "cell_type": "code",
   "execution_count": 2,
   "metadata": {},
   "outputs": [],
   "source": [
    "set.seed(1)"
   ]
  },
  {
   "cell_type": "markdown",
   "metadata": {},
   "source": [
    "## Introduction"
   ]
  },
  {
   "cell_type": "markdown",
   "metadata": {},
   "source": [
    "Algeria is traditionally considered to be semi-arid, with only 0.82% of its land covered by forest (Aini et. al., 2019). This forest is concentrated along the northern coast of the country along the Mediterranean Sea, and is characterized by vast coverage of shrublands and forests, and a humid climate (Curt et. al., 2020).  The northern region of Algeria is also characterized by high wildfire activity, experiencing 32 204 forest fires and burning a total of 16 954 km^2 of area between the years of 2001 - 2019 (Curt et. al., 2020). Most of the fires occur in the summer months, after the intense rainfalls of the spring and fall that promote lush vegetation growth (Curt et. al., 2020). Past studies have also suggested that the principal causation for fire activity is the combination of abundant fire fuel and dry, warm weather of the summer; however, it could also be linked to traditional agricultural activities, as farmers usually ignite fires in the summer to manage vegetation in cultivated lands (Aini et. al., 2019).\n",
    "\n",
    "Daily temperature, relative humidity, rainfall, wind speed, and Fire Weather Index (FWI) data were collected in the Bejaia and Sidi Bel Abbes regions of Northern Algeria from June 1st to September 30th in 2012. FWI is divided into two categories (De Groot, 1987). Fuel moisture codes (FFMC, DMC, and DC) represent ratings of moisture for specific fuel depths. Fire behaviour indices include Initial Spread Index (ISI), expected rate of fire spread, Buildup Index (BUI), amount of fuel available, and Fire Weather Index, expected fire intensity. 122 observations were recorded for each of the regions.\n",
    "\n",
    "Through this data analysis, our goal is to answer the following question: Can we predict whether the Bejaia or Sidi Bel Abbes regions in Algeria will experience a forest fire based upon bioclimatic conditions?\n"
   ]
  },
  {
   "cell_type": "markdown",
   "metadata": {},
   "source": [
    "## Preliminary Exploratory Data Analysis"
   ]
  },
  {
   "cell_type": "code",
   "execution_count": 3,
   "metadata": {},
   "outputs": [
    {
     "name": "stderr",
     "output_type": "stream",
     "text": [
      "Parsed with column specification:\n",
      "cols(\n",
      "  day = \u001b[31mcol_character()\u001b[39m,\n",
      "  month = \u001b[31mcol_character()\u001b[39m,\n",
      "  year = \u001b[32mcol_double()\u001b[39m,\n",
      "  Temperature = \u001b[32mcol_double()\u001b[39m,\n",
      "  RH = \u001b[32mcol_double()\u001b[39m,\n",
      "  Ws = \u001b[32mcol_double()\u001b[39m,\n",
      "  Rain = \u001b[32mcol_double()\u001b[39m,\n",
      "  FFMC = \u001b[32mcol_double()\u001b[39m,\n",
      "  DMC = \u001b[32mcol_double()\u001b[39m,\n",
      "  DC = \u001b[32mcol_double()\u001b[39m,\n",
      "  ISI = \u001b[32mcol_double()\u001b[39m,\n",
      "  BUI = \u001b[32mcol_double()\u001b[39m,\n",
      "  FWI = \u001b[32mcol_double()\u001b[39m,\n",
      "  Classes = \u001b[31mcol_character()\u001b[39m\n",
      ")\n",
      "\n",
      "Parsed with column specification:\n",
      "cols(\n",
      "  day = \u001b[31mcol_character()\u001b[39m,\n",
      "  month = \u001b[31mcol_character()\u001b[39m,\n",
      "  year = \u001b[32mcol_double()\u001b[39m,\n",
      "  Temperature = \u001b[32mcol_double()\u001b[39m,\n",
      "  RH = \u001b[32mcol_double()\u001b[39m,\n",
      "  Ws = \u001b[32mcol_double()\u001b[39m,\n",
      "  Rain = \u001b[32mcol_double()\u001b[39m,\n",
      "  FFMC = \u001b[32mcol_double()\u001b[39m,\n",
      "  DMC = \u001b[32mcol_double()\u001b[39m,\n",
      "  DC = \u001b[31mcol_character()\u001b[39m,\n",
      "  ISI = \u001b[32mcol_double()\u001b[39m,\n",
      "  BUI = \u001b[32mcol_double()\u001b[39m,\n",
      "  FWI = \u001b[31mcol_character()\u001b[39m,\n",
      "  Classes = \u001b[31mcol_character()\u001b[39m\n",
      ")\n",
      "\n",
      "Warning message:\n",
      "“1 parsing failure.\n",
      "row col   expected     actual                                                                                                       file\n",
      " 44  -- 14 columns 13 columns 'https://archive.ics.uci.edu/ml/machine-learning-databases/00547/Algerian_forest_fires_dataset_UPDATE.csv'\n",
      "”\n"
     ]
    }
   ],
   "source": [
    "## Load datasets from URL\n",
    "\n",
    "algerian_forest_fire_Bejaia <- read_csv(\"https://archive.ics.uci.edu/ml/machine-learning-databases/00547/Algerian_forest_fires_dataset_UPDATE.csv\", \n",
    "                                 skip = 1, n_max = 122) %>%\n",
    "    mutate(Region = \"Bejaia\")\n",
    "\n",
    "algerian_forest_fire_Sidi_Bel_Abbes <- read_csv(\"https://archive.ics.uci.edu/ml/machine-learning-databases/00547/Algerian_forest_fires_dataset_UPDATE.csv\",\n",
    "                                               skip = 126) %>%\n",
    "    mutate(Region = \"Sidi Bel Abbes\")\n",
    "\n",
    "## Merge datasets of the two regions\n",
    "\n",
    "algeria_forest_fire_all_data <- rbind(algerian_forest_fire_Bejaia, algerian_forest_fire_Sidi_Bel_Abbes) %>%\n",
    "    mutate(Classes = as_factor(Classes)) %>%\n",
    "    mutate(Region = as_factor(Region))"
   ]
  },
  {
   "cell_type": "code",
   "execution_count": 4,
   "metadata": {},
   "outputs": [],
   "source": [
    "## Manually set values of incorrect column, convert DC and FWI to numeric type\n",
    "\n",
    "algeria_forest_fire_all_data[166, 10] <- '14.6'\n",
    "algeria_forest_fire_all_data[166, 11] <- 9\n",
    "algeria_forest_fire_all_data[166, 12] <- 12.5\n",
    "algeria_forest_fire_all_data[166, 13] <- '10.4'\n",
    "algeria_forest_fire_all_data[166, 14] <- \"fire\" \n",
    "\n",
    "algeria_forest_fire_all_data <- algeria_forest_fire_all_data %>%\n",
    "    mutate(DC = as.numeric(DC)) %>%\n",
    "    mutate(FWI = as.numeric(FWI))\n"
   ]
  },
  {
   "cell_type": "code",
   "execution_count": 5,
   "metadata": {},
   "outputs": [
    {
     "data": {
      "text/html": [
       "<table>\n",
       "<caption>A tibble: 159 × 5</caption>\n",
       "<thead>\n",
       "\t<tr><th scope=col>Temperature</th><th scope=col>RH</th><th scope=col>Rain</th><th scope=col>FFMC</th><th scope=col>Classes</th></tr>\n",
       "\t<tr><th scope=col>&lt;dbl&gt;</th><th scope=col>&lt;dbl&gt;</th><th scope=col>&lt;dbl&gt;</th><th scope=col>&lt;dbl&gt;</th><th scope=col>&lt;fct&gt;</th></tr>\n",
       "</thead>\n",
       "<tbody>\n",
       "\t<tr><td>26</td><td>82</td><td>13.1</td><td>47.1</td><td>not fire</td></tr>\n",
       "\t<tr><td>25</td><td>89</td><td> 2.5</td><td>28.6</td><td>not fire</td></tr>\n",
       "\t<tr><td>27</td><td>77</td><td> 0.0</td><td>64.8</td><td>not fire</td></tr>\n",
       "\t<tr><td>31</td><td>67</td><td> 0.0</td><td>82.6</td><td>fire    </td></tr>\n",
       "\t<tr><td>⋮</td><td>⋮</td><td>⋮</td><td>⋮</td><td>⋮</td></tr>\n",
       "\t<tr><td>28</td><td>70</td><td>0.0</td><td>79.9</td><td>not fire</td></tr>\n",
       "\t<tr><td>30</td><td>65</td><td>0.0</td><td>85.4</td><td>fire    </td></tr>\n",
       "\t<tr><td>27</td><td>87</td><td>0.5</td><td>45.9</td><td>not fire</td></tr>\n",
       "\t<tr><td>24</td><td>64</td><td>0.2</td><td>67.3</td><td>not fire</td></tr>\n",
       "</tbody>\n",
       "</table>\n"
      ],
      "text/latex": [
       "A tibble: 159 × 5\n",
       "\\begin{tabular}{lllll}\n",
       " Temperature & RH & Rain & FFMC & Classes\\\\\n",
       " <dbl> & <dbl> & <dbl> & <dbl> & <fct>\\\\\n",
       "\\hline\n",
       "\t 26 & 82 & 13.1 & 47.1 & not fire\\\\\n",
       "\t 25 & 89 &  2.5 & 28.6 & not fire\\\\\n",
       "\t 27 & 77 &  0.0 & 64.8 & not fire\\\\\n",
       "\t 31 & 67 &  0.0 & 82.6 & fire    \\\\\n",
       "\t ⋮ & ⋮ & ⋮ & ⋮ & ⋮\\\\\n",
       "\t 28 & 70 & 0.0 & 79.9 & not fire\\\\\n",
       "\t 30 & 65 & 0.0 & 85.4 & fire    \\\\\n",
       "\t 27 & 87 & 0.5 & 45.9 & not fire\\\\\n",
       "\t 24 & 64 & 0.2 & 67.3 & not fire\\\\\n",
       "\\end{tabular}\n"
      ],
      "text/markdown": [
       "\n",
       "A tibble: 159 × 5\n",
       "\n",
       "| Temperature &lt;dbl&gt; | RH &lt;dbl&gt; | Rain &lt;dbl&gt; | FFMC &lt;dbl&gt; | Classes &lt;fct&gt; |\n",
       "|---|---|---|---|---|\n",
       "| 26 | 82 | 13.1 | 47.1 | not fire |\n",
       "| 25 | 89 |  2.5 | 28.6 | not fire |\n",
       "| 27 | 77 |  0.0 | 64.8 | not fire |\n",
       "| 31 | 67 |  0.0 | 82.6 | fire     |\n",
       "| ⋮ | ⋮ | ⋮ | ⋮ | ⋮ |\n",
       "| 28 | 70 | 0.0 | 79.9 | not fire |\n",
       "| 30 | 65 | 0.0 | 85.4 | fire     |\n",
       "| 27 | 87 | 0.5 | 45.9 | not fire |\n",
       "| 24 | 64 | 0.2 | 67.3 | not fire |\n",
       "\n"
      ],
      "text/plain": [
       "    Temperature RH Rain FFMC Classes \n",
       "1   26          82 13.1 47.1 not fire\n",
       "2   25          89  2.5 28.6 not fire\n",
       "3   27          77  0.0 64.8 not fire\n",
       "4   31          67  0.0 82.6 fire    \n",
       "⋮   ⋮           ⋮  ⋮    ⋮    ⋮       \n",
       "156 28          70 0.0  79.9 not fire\n",
       "157 30          65 0.0  85.4 fire    \n",
       "158 27          87 0.5  45.9 not fire\n",
       "159 24          64 0.2  67.3 not fire"
      ]
     },
     "metadata": {},
     "output_type": "display_data"
    }
   ],
   "source": [
    "## Create training dataset\n",
    "\n",
    "forest_fire_split <- algeria_forest_fire_all_data %>%\n",
    "    select(Temperature, RH, Rain, FFMC, Classes) %>%\n",
    "    initial_split(prop = 0.65, strata = Classes)\n",
    "forest_fire_train <- training(forest_fire_split)\n",
    "forest_fire_test <- testing(forest_fire_split)\n",
    "\n",
    "forest_fire_train"
   ]
  },
  {
   "cell_type": "markdown",
   "metadata": {},
   "source": [
    "The follwing chart is to demonstrate that the classes are balanced. The number of fire class is 104 and the number of non fire class is 80. The class distribution is close to equal which seems there is no imbalance problem to deal with this training dataset. "
   ]
  },
  {
   "cell_type": "code",
   "execution_count": 6,
   "metadata": {},
   "outputs": [
    {
     "name": "stderr",
     "output_type": "stream",
     "text": [
      "`summarise()` ungrouping output (override with `.groups` argument)\n",
      "\n"
     ]
    },
    {
     "ename": "ERROR",
     "evalue": "Error in balanced(.): could not find function \"balanced\"\n",
     "output_type": "error",
     "traceback": [
      "Error in balanced(.): could not find function \"balanced\"\nTraceback:\n",
      "1. forest_fire_train %>% group_by(Classes) %>% summarize(n = n()) %>% \n .     balanced",
      "2. withVisible(eval(quote(`_fseq`(`_lhs`)), env, env))",
      "3. eval(quote(`_fseq`(`_lhs`)), env, env)",
      "4. eval(quote(`_fseq`(`_lhs`)), env, env)",
      "5. `_fseq`(`_lhs`)",
      "6. freduce(value, `_function_list`)",
      "7. withVisible(function_list[[k]](value))",
      "8. function_list[[k]](value)"
     ]
    }
   ],
   "source": [
    "balanced <- forest_fire_train %>%\n",
    "    group_by(Classes) %>%\n",
    "    summarize (n=n()) %>%\n",
    "balanced"
   ]
  },
  {
   "cell_type": "markdown",
   "metadata": {},
   "source": [
    "The following table summarizes the predictors’ means and the number of observations for each of the classes. The classes are approximately balanced, with more observations of fire. Days with fire display higher mean temperatures, lower mean relative humidity, higher mean FFMC, and lower mean rainfall."
   ]
  },
  {
   "cell_type": "code",
   "execution_count": 7,
   "metadata": {},
   "outputs": [
    {
     "name": "stderr",
     "output_type": "stream",
     "text": [
      "`summarise()` ungrouping output (override with `.groups` argument)\n",
      "\n"
     ]
    },
    {
     "data": {
      "text/html": [
       "<table>\n",
       "<caption>A tibble: 2 × 6</caption>\n",
       "<thead>\n",
       "\t<tr><th scope=col>Classes</th><th scope=col>mean_temp</th><th scope=col>mean_RH</th><th scope=col>mean_rain</th><th scope=col>mean_FFMC</th><th scope=col>obs_count</th></tr>\n",
       "\t<tr><th scope=col>&lt;fct&gt;</th><th scope=col>&lt;dbl&gt;</th><th scope=col>&lt;dbl&gt;</th><th scope=col>&lt;dbl&gt;</th><th scope=col>&lt;dbl&gt;</th><th scope=col>&lt;int&gt;</th></tr>\n",
       "</thead>\n",
       "<tbody>\n",
       "\t<tr><td>not fire</td><td>29.60870</td><td>70.14493</td><td>1.7246377</td><td>64.23043</td><td>69</td></tr>\n",
       "\t<tr><td>fire    </td><td>33.53333</td><td>56.76667</td><td>0.1022222</td><td>87.59333</td><td>90</td></tr>\n",
       "</tbody>\n",
       "</table>\n"
      ],
      "text/latex": [
       "A tibble: 2 × 6\n",
       "\\begin{tabular}{llllll}\n",
       " Classes & mean\\_temp & mean\\_RH & mean\\_rain & mean\\_FFMC & obs\\_count\\\\\n",
       " <fct> & <dbl> & <dbl> & <dbl> & <dbl> & <int>\\\\\n",
       "\\hline\n",
       "\t not fire & 29.60870 & 70.14493 & 1.7246377 & 64.23043 & 69\\\\\n",
       "\t fire     & 33.53333 & 56.76667 & 0.1022222 & 87.59333 & 90\\\\\n",
       "\\end{tabular}\n"
      ],
      "text/markdown": [
       "\n",
       "A tibble: 2 × 6\n",
       "\n",
       "| Classes &lt;fct&gt; | mean_temp &lt;dbl&gt; | mean_RH &lt;dbl&gt; | mean_rain &lt;dbl&gt; | mean_FFMC &lt;dbl&gt; | obs_count &lt;int&gt; |\n",
       "|---|---|---|---|---|---|\n",
       "| not fire | 29.60870 | 70.14493 | 1.7246377 | 64.23043 | 69 |\n",
       "| fire     | 33.53333 | 56.76667 | 0.1022222 | 87.59333 | 90 |\n",
       "\n"
      ],
      "text/plain": [
       "  Classes  mean_temp mean_RH  mean_rain mean_FFMC obs_count\n",
       "1 not fire 29.60870  70.14493 1.7246377 64.23043  69       \n",
       "2 fire     33.53333  56.76667 0.1022222 87.59333  90       "
      ]
     },
     "metadata": {},
     "output_type": "display_data"
    }
   ],
   "source": [
    "## Explore means of predictor variables and the number of observations in each category\n",
    "\n",
    "means <- forest_fire_train %>%\n",
    "    group_by(Classes) %>%\n",
    "    summarize(mean_temp = mean(Temperature),\n",
    "             mean_RH = mean(RH),\n",
    "             mean_rain = mean(Rain),\n",
    "             mean_FFMC = mean(FFMC),\n",
    "             obs_count = n())\n",
    "\n",
    "means"
   ]
  },
  {
   "cell_type": "code",
   "execution_count": 8,
   "metadata": {},
   "outputs": [],
   "source": [
    "options(repr.plot.width = 8, repr.plot.height = 6)"
   ]
  },
  {
   "cell_type": "markdown",
   "metadata": {},
   "source": [
    "Next, we compare the distribution of the predictors between the 2 classes, examining differences which might suggest how each variable relates to fire incidence by constructing histograms for each predictor."
   ]
  },
  {
   "cell_type": "code",
   "execution_count": 9,
   "metadata": {},
   "outputs": [
    {
     "ename": "ERROR",
     "evalue": "Error in plot_grid(temp_distribution_plot_fire, RH_distribution_plot_fire, : object 'temp_distribution_plot_fire' not found\n",
     "output_type": "error",
     "traceback": [
      "Error in plot_grid(temp_distribution_plot_fire, RH_distribution_plot_fire, : object 'temp_distribution_plot_fire' not found\nTraceback:\n",
      "1. plot_grid(temp_distribution_plot_fire, RH_distribution_plot_fire, \n .     WS_distribution_plot_fire, rain_distribution_plot_fire, FFMC_distribution_plot_fire, \n .     DMC_distribution_plot_fire, DC_distribution_plot_fire, ISI_distribution_plot_fire, \n .     BUI_distribution_plot_fire, FWI_distribution_plot_fire, labels = \"AUTO\", \n .     ncol = 2)"
     ]
    }
   ],
   "source": [
    "options(repr.plot.width = 12, repr.plot.height = 25)\n",
    "\n",
    "plot_grid(\n",
    "  temp_distribution_plot_fire, RH_distribution_plot_fire, WS_distribution_plot_fire, rain_distribution_plot_fire, FFMC_distribution_plot_fire, DMC_distribution_plot_fire, DC_distribution_plot_fire, ISI_distribution_plot_fire, BUI_distribution_plot_fire, FWI_distribution_plot_fire,\n",
    "  labels = \"AUTO\", ncol = 2\n",
    ")"
   ]
  },
  {
   "cell_type": "markdown",
   "metadata": {},
   "source": [
    "We can see from the plots that the FFMC, ISI, BUI and FWI are the best predictors of a fire, and visually they appear much better than any other predictor, so we chose to use these four. We select these four predictors, then splitting the data in the training set and the testing set."
   ]
  },
  {
   "cell_type": "markdown",
   "metadata": {},
   "source": [
    "## Methods"
   ]
  },
  {
   "cell_type": "markdown",
   "metadata": {},
   "source": [
    "We plan to use a k-nearest neighbours classification algorithm with cross-validation to predict whether there will be a fire on a given day. As BUI, ISI, and FWI, characterize fire behaviour, we decided that they would not be helpful in predicting the fire likelihood.  From the exploratory analysis, patterns appear in the values of temperature, humidity, rain, and FFMC based upon the fire classification; therefore, these will be the variables included in our algorithm. The results will be shown with scatterplots of the data, the predictors as axes, and colored by classification."
   ]
  },
  {
   "cell_type": "code",
   "execution_count": 10,
   "metadata": {},
   "outputs": [],
   "source": [
    "## Create training dataset\n",
    "\n",
    "forest_fire_split <- algeria_forest_fire_all_data %>% \n",
    "    select(FFMC, ISI, BUI, FWI, Classes) %>%\n",
    "    initial_split(prop = 0.75, strata = Classes)\n",
    "forest_fire_train <- training(forest_fire_split)\n",
    "forest_fire_test <- testing(forest_fire_split)"
   ]
  },
  {
   "cell_type": "markdown",
   "metadata": {},
   "source": [
    "Next, create a recipe for the model with our chosen predictors, as scale and center them to ensure that they all have an equal effect on the model. Afterwards, we create the model, and a vfold in order to find the best value for k."
   ]
  },
  {
   "cell_type": "code",
   "execution_count": 11,
   "metadata": {},
   "outputs": [],
   "source": [
    "fire_recipe <- recipe(Classes ~ FFMC + ISI + BUI + FWI, data = forest_fire_train) %>%\n",
    "    step_scale(all_predictors()) %>%\n",
    "    step_center(all_predictors())\n",
    "\n",
    "knn_tune_spec <- nearest_neighbor(weight_func = \"rectangular\", neighbors = tune()) %>%\n",
    "  set_engine(\"kknn\") %>%\n",
    "  set_mode(\"classification\")\n",
    "\n",
    "fire_vfold <- vfold_cv(forest_fire_train, v = 15, strata = Classes)\n",
    "\n",
    "tuning_results <- workflow() %>%\n",
    "    add_recipe(fire_recipe) %>%\n",
    "    add_model(knn_tune_spec) %>%\n",
    "    tune_grid(resamples = fire_vfold, grid = 15) %>%\n",
    "    collect_metrics()\n",
    "\n",
    "accuracies <- tuning_results %>%\n",
    "    filter(.metric == \"accuracy\")"
   ]
  },
  {
   "cell_type": "markdown",
   "metadata": {},
   "source": [
    "Here, we plot the values of k with their accuracy."
   ]
  },
  {
   "cell_type": "code",
   "execution_count": 12,
   "metadata": {},
   "outputs": [
    {
     "data": {
      "image/png": "[encoded data removed]",
      "text/plain": [
       "plot without title"
      ]
     },
     "metadata": {
      "image/png": {
       "height": 1500,
       "width": 720
      }
     },
     "output_type": "display_data"
    }
   ],
   "source": [
    "accuracy_vs_k <- ggplot(accuracies, aes(x = neighbors, y = mean)) +\n",
    "  geom_point() +\n",
    "  geom_line() +\n",
    "  labs(x = \"Neighbors\", y = \"Accuracy Estimate\") +\n",
    "  theme(text = element_text(size = 20))\n",
    "accuracy_vs_k"
   ]
  },
  {
   "cell_type": "markdown",
   "metadata": {},
   "source": [
    "The graph does not have any distinct pattern, with three distinct peaks, however, the peak at 7 seems to have the least change around it, so we choose k = 7, and create a fit with our new value."
   ]
  },
  {
   "cell_type": "code",
   "execution_count": 13,
   "metadata": {},
   "outputs": [
    {
     "data": {
      "text/plain": [
       "══ Workflow [trained] ══════════════════════════════════════════════════════════\n",
       "\u001b[3mPreprocessor:\u001b[23m Recipe\n",
       "\u001b[3mModel:\u001b[23m nearest_neighbor()\n",
       "\n",
       "── Preprocessor ────────────────────────────────────────────────────────────────\n",
       "2 Recipe Steps\n",
       "\n",
       "● step_scale()\n",
       "● step_center()\n",
       "\n",
       "── Model ───────────────────────────────────────────────────────────────────────\n",
       "\n",
       "Call:\n",
       "kknn::train.kknn(formula = ..y ~ ., data = data, ks = ~7, kernel = ~\"rectangular\")\n",
       "\n",
       "Type of response variable: nominal\n",
       "Minimal misclassification: 0.04347826\n",
       "Best kernel: rectangular\n",
       "Best k: 7"
      ]
     },
     "metadata": {},
     "output_type": "display_data"
    }
   ],
   "source": [
    "knn_spec <- nearest_neighbor(weight_func = \"rectangular\", neighbors = 7) %>%\n",
    "  set_engine(\"kknn\") %>%\n",
    "  set_mode(\"classification\")\n",
    "\n",
    "fire_fit <- workflow() %>%\n",
    "    add_recipe(fire_recipe) %>%\n",
    "    add_model(knn_spec) %>%\n",
    "    fit(data = forest_fire_train)\n",
    "\n",
    "fire_fit"
   ]
  },
  {
   "cell_type": "markdown",
   "metadata": {},
   "source": [
    "Finally we test the accuracy of the model on the testing data that we seperated earlier. We apply the model to each observation, then compare the predicted class with the actual class."
   ]
  },
  {
   "cell_type": "markdown",
   "metadata": {},
   "source": [
    "And we get an accuracy of 98%, meaning the our model would correctly predict whether there is going to be a fire on a given day with 98% accuracy. "
   ]
  },
  {
   "cell_type": "markdown",
   "metadata": {},
   "source": [
    "## Expected Outcomes and Significance"
   ]
  },
  {
   "cell_type": "markdown",
   "metadata": {},
   "source": [
    "We anticipate that FFMC will be the strongest predictor of fire due to the distinct separation in values observed in the histogram. It is expected that higher temperature, lower humidity, and minimal rain correspond to an incident of fire. \n",
    "\n",
    "Our findings may assist in determining whether a fire will occur based on bioclimatic conditions. This knowledge could improve interventions to prevent forest fires, protecting the ecosystems and residents of these regions.\n",
    "\n",
    "The causes of forest fires in Algeria are widely unknown, with the causation for 85% of forest fires remaining unknown in 2020 (Pons, 2020). However, our data analysis could lead to asking whether rainfall, temperature, humidity, or FFMC directly cause a fire incidence."
   ]
  },
  {
   "cell_type": "code",
   "execution_count": 14,
   "metadata": {},
   "outputs": [
    {
     "data": {
      "text/plain": [
       "══ Workflow [trained] ══════════════════════════════════════════════════════════\n",
       "\u001b[3mPreprocessor:\u001b[23m Recipe\n",
       "\u001b[3mModel:\u001b[23m nearest_neighbor()\n",
       "\n",
       "── Preprocessor ────────────────────────────────────────────────────────────────\n",
       "2 Recipe Steps\n",
       "\n",
       "● step_scale()\n",
       "● step_center()\n",
       "\n",
       "── Model ───────────────────────────────────────────────────────────────────────\n",
       "\n",
       "Call:\n",
       "kknn::train.kknn(formula = ..y ~ ., data = data, ks = ~5, kernel = ~\"rectangular\")\n",
       "\n",
       "Type of response variable: nominal\n",
       "Minimal misclassification: 0.04347826\n",
       "Best kernel: rectangular\n",
       "Best k: 5"
      ]
     },
     "metadata": {},
     "output_type": "display_data"
    }
   ],
   "source": [
    "knn_spec <- nearest_neighbor(weight_func = \"rectangular\", neighbors = 5) %>%\n",
    "  set_engine(\"kknn\") %>%\n",
    "  set_mode(\"classification\")\n",
    "\n",
    "fire_fit <- workflow() %>%\n",
    "    add_recipe(fire_recipe) %>%\n",
    "    add_model(knn_spec) %>%\n",
    "    fit(data = forest_fire_train)\n",
    "\n",
    "fire_fit"
   ]
  },
  {
   "cell_type": "code",
   "execution_count": 15,
   "metadata": {},
   "outputs": [
    {
     "data": {
      "text/html": [
       "<table>\n",
       "<caption>A tibble: 2 × 3</caption>\n",
       "<thead>\n",
       "\t<tr><th scope=col>.metric</th><th scope=col>.estimator</th><th scope=col>.estimate</th></tr>\n",
       "\t<tr><th scope=col>&lt;chr&gt;</th><th scope=col>&lt;chr&gt;</th><th scope=col>&lt;dbl&gt;</th></tr>\n",
       "</thead>\n",
       "<tbody>\n",
       "\t<tr><td>accuracy</td><td>binary</td><td>0.9666667</td></tr>\n",
       "\t<tr><td>kap     </td><td>binary</td><td>0.9321267</td></tr>\n",
       "</tbody>\n",
       "</table>\n"
      ],
      "text/latex": [
       "A tibble: 2 × 3\n",
       "\\begin{tabular}{lll}\n",
       " .metric & .estimator & .estimate\\\\\n",
       " <chr> & <chr> & <dbl>\\\\\n",
       "\\hline\n",
       "\t accuracy & binary & 0.9666667\\\\\n",
       "\t kap      & binary & 0.9321267\\\\\n",
       "\\end{tabular}\n"
      ],
      "text/markdown": [
       "\n",
       "A tibble: 2 × 3\n",
       "\n",
       "| .metric &lt;chr&gt; | .estimator &lt;chr&gt; | .estimate &lt;dbl&gt; |\n",
       "|---|---|---|\n",
       "| accuracy | binary | 0.9666667 |\n",
       "| kap      | binary | 0.9321267 |\n",
       "\n"
      ],
      "text/plain": [
       "  .metric  .estimator .estimate\n",
       "1 accuracy binary     0.9666667\n",
       "2 kap      binary     0.9321267"
      ]
     },
     "metadata": {},
     "output_type": "display_data"
    }
   ],
   "source": [
    "fire_test_predictions <- fire_fit %>%\n",
    "    predict(forest_fire_test) %>%\n",
    "    bind_cols(forest_fire_test)\n",
    "\n",
    "fire_results <- fire_test_predictions %>%\n",
    "    metrics(estimate = .pred_class, truth = Classes)\n",
    "\n",
    "fire_results"
   ]
  },
  {
   "cell_type": "code",
   "execution_count": 20,
   "metadata": {},
   "outputs": [
    {
     "data": {
      "text/plain": [
       "          Truth\n",
       "Prediction not fire fire\n",
       "  not fire       25    1\n",
       "  fire            1   33"
      ]
     },
     "metadata": {},
     "output_type": "display_data"
    }
   ],
   "source": [
    "fire_test_predictions %>% conf_mat(truth = Classes, estimate = .pred_class)"
   ]
  },
  {
   "cell_type": "markdown",
   "metadata": {},
   "source": [
    "The confusion matrix shows that the model predicted 58 out of 60 cases correctly. Only 2 out of 60 cases were predicted wrong "
   ]
  },
  {
   "cell_type": "code",
   "execution_count": 16,
   "metadata": {},
   "outputs": [
    {
     "name": "stderr",
     "output_type": "stream",
     "text": [
      "ERROR while rich displaying an object: Error in FUN(X[[i]], ...): object 'Temperature' not found\n",
      "\n",
      "Traceback:\n",
      "1. FUN(X[[i]], ...)\n",
      "2. tryCatch(withCallingHandlers({\n",
      " .     if (!mime %in% names(repr::mime2repr)) \n",
      " .         stop(\"No repr_* for mimetype \", mime, \" in repr::mime2repr\")\n",
      " .     rpr <- repr::mime2repr[[mime]](obj)\n",
      " .     if (is.null(rpr)) \n",
      " .         return(NULL)\n",
      " .     prepare_content(is.raw(rpr), rpr)\n",
      " . }, error = error_handler), error = outer_handler)\n",
      "3. tryCatchList(expr, classes, parentenv, handlers)\n",
      "4. tryCatchOne(expr, names, parentenv, handlers[[1L]])\n",
      "5. doTryCatch(return(expr), name, parentenv, handler)\n",
      "6. withCallingHandlers({\n",
      " .     if (!mime %in% names(repr::mime2repr)) \n",
      " .         stop(\"No repr_* for mimetype \", mime, \" in repr::mime2repr\")\n",
      " .     rpr <- repr::mime2repr[[mime]](obj)\n",
      " .     if (is.null(rpr)) \n",
      " .         return(NULL)\n",
      " .     prepare_content(is.raw(rpr), rpr)\n",
      " . }, error = error_handler)\n",
      "7. repr::mime2repr[[mime]](obj)\n",
      "8. repr_text.default(obj)\n",
      "9. paste(capture.output(print(obj)), collapse = \"\\n\")\n",
      "10. capture.output(print(obj))\n",
      "11. evalVis(expr)\n",
      "12. withVisible(eval(expr, pf))\n",
      "13. eval(expr, pf)\n",
      "14. eval(expr, pf)\n",
      "15. print(obj)\n",
      "16. print.ggplot(obj)\n",
      "17. ggplot_build(x)\n",
      "18. ggplot_build.ggplot(x)\n",
      "19. by_layer(function(l, d) l$compute_aesthetics(d, plot))\n",
      "20. f(l = layers[[i]], d = data[[i]])\n",
      "21. l$compute_aesthetics(d, plot)\n",
      "22. f(..., self = self)\n",
      "23. scales_add_defaults(plot$scales, data, aesthetics, plot$plot_env)\n",
      "24. lapply(aesthetics[new_aesthetics], eval_tidy, data = data)\n",
      "25. FUN(X[[i]], ...)\n"
     ]
    },
    {
     "data": {
      "image/png": "[encoded data removed]",
      "text/plain": [
       "plot without title"
      ]
     },
     "metadata": {
      "image/png": {
       "height": 1500,
       "width": 720
      }
     },
     "output_type": "display_data"
    }
   ],
   "source": [
    "# TODO: Visualize results of analysis\n",
    "# An example graph created below - unsure which combinations of predictors to use\n",
    "\n",
    "fire_predictions <- ggplot(fire_test_predictions, aes(x = Temperature, y = FFMC, colour = .pred_class)) +\n",
    "    geom_point() +\n",
    "    labs(x = \"Temperature (C)\", y = \"Fine Fuel Moisture Code\", colour = \"Predicted class\") +\n",
    "    theme(text = element_text(size = 20))\n",
    "\n",
    "fire_predictions"
   ]
  },
  {
   "cell_type": "markdown",
   "metadata": {},
   "source": [
    "## Discussion"
   ]
  },
  {
   "cell_type": "markdown",
   "metadata": {},
   "source": [
    "At the beginning of this analysis, we expected that FFMC would be the strongest predictor of fire with a boundary between classes at around FFMC = 80, and that higher temperature, lower humidity, and minimal rain would also correspond to an incident of fire.\n",
    "\n",
    "To evaluate our hypothesis, we construct histograms of the distribution of the predictor variables in the testing set, faceted by their predicted class, and compare them to corresponding distributions of the training set when faceted by actual classes."
   ]
  },
  {
   "cell_type": "code",
   "execution_count": 17,
   "metadata": {},
   "outputs": [
    {
     "ename": "ERROR",
     "evalue": "Error in plot_grid(FFMC_distribution_plot_fire, predicted_ffmc_dist, ncol = 2): object 'FFMC_distribution_plot_fire' not found\n",
     "output_type": "error",
     "traceback": [
      "Error in plot_grid(FFMC_distribution_plot_fire, predicted_ffmc_dist, ncol = 2): object 'FFMC_distribution_plot_fire' not found\nTraceback:\n",
      "1. plot_grid(FFMC_distribution_plot_fire, predicted_ffmc_dist, ncol = 2)"
     ]
    }
   ],
   "source": [
    "options(repr.plot.width = 14, repr.plot.height = 6)\n",
    "\n",
    "predicted_ffmc_dist <- ggplot(fire_test_predictions, aes(x = FFMC)) +\n",
    "    geom_histogram() +\n",
    "    facet_grid(.pred_class ~ .) +\n",
    "    labs(x = \"Fine Fuel Moisture Code (FFMC)\", y = \"Frequency\", title = \"Histogram of FFMC for predicted classes\") +\n",
    "    theme(text = element_text(size = 20))\n",
    "\n",
    "plot_grid(FFMC_distribution_plot_fire, predicted_ffmc_dist, ncol = 2)"
   ]
  },
  {
   "cell_type": "markdown",
   "metadata": {},
   "source": [
    "Based on the distribution of FFMC for observations classified as fire and not fire, the finished KNN model generally classifies unseen obseravations with FFMC > 80 as cases of fire, which agrees with our expectation and observed patterns in the training set. In the Fire Weather Index model, the FFMC quantifies **(CITATION)** the ease of fire ignition under current bioclimactic conditions; it therefore makes sense that a sufficiently high FFMC is related to an actual occurrence of fire.\n",
    "\n",
    "The classification results appear mixed when FFMC is close to 80. This seems acceptable, however, given that we would also expect some uncertainty in real life when conditions are only somewhat conducive to fire ignition."
   ]
  },
  {
   "cell_type": "code",
   "execution_count": null,
   "metadata": {},
   "outputs": [],
   "source": [
    "predicted_temp_dist <- ggplot(fire_test_predictions, aes(x = Temperature)) +\n",
    "    geom_histogram() +\n",
    "    facet_grid(.pred_class ~ .) +\n",
    "    labs(x = \"Temperature (C)\", y = \"Frequency\", title = \"Histogram of temperature for predicted\\nclasses\") +\n",
    "    theme(text = element_text(size = 20))\n",
    "\n",
    "plot_grid(temp_distribution_plot_fire, predicted_temp_dist, ncol = 2)"
   ]
  },
  {
   "cell_type": "markdown",
   "metadata": {},
   "source": [
    "The distribution of temperature for observations classified as fire versus not fire is similar to the distributions of temperature separated by actual classes in the training set. In general, observations with higher temperatures are classified as fire by the finished KNN model - as expected - but the distributions also overlap between 27 and 35 °C. We may hypothesize that other predictor variables sway the classifier's decision in these ambiguous situations; for example, in **(FIGURE X - CITE THE SCATTERPLOT ABOVE)**, certain observations with moderate temperature but very high FFMC were classified as fire."
   ]
  },
  {
   "cell_type": "code",
   "execution_count": null,
   "metadata": {},
   "outputs": [],
   "source": [
    "predicted_rainfall_dist <- ggplot(fire_test_predictions, aes(x = Rain)) +\n",
    "    geom_histogram() +\n",
    "    facet_grid(.pred_class ~ .) +\n",
    "    labs(x = \"Rainfall (mm)\", y = \"Frequency\", title = \"Distribution of rainfall for predicted classes\") +\n",
    "    theme(text = element_text(size = 20))\n",
    "\n",
    "plot_grid(rain_distribution_plot_fire, predicted_rainfall_dist, ncol = 2)"
   ]
  },
  {
   "cell_type": "markdown",
   "metadata": {},
   "source": [
    "The distributions of rainfall for predicted classes and for the true classes are very similar. Notably, in the commonly observed situation where daily rainfall is 0, the classifier usually classifies the observation as a case of fire. There appear to be some exceptions, however; this suggests that the classifier can differentiate among observations with little to no rainfall with reasonable accuracy on the basis of other predictors. **(It would be nice if we had a scatterplot or other visualization to back this up)**"
   ]
  },
  {
   "cell_type": "code",
   "execution_count": null,
   "metadata": {},
   "outputs": [],
   "source": [
    "predicted_humidity_dist <- ggplot(fire_test_predictions, aes(x = RH)) +\n",
    "    geom_histogram() +\n",
    "    facet_grid(.pred_class ~ .) +\n",
    "    labs(x = \"Relative Humidity (%)\", y = \"Frequency\", title = \"Distribution of relative humidity for predicted\\nclasses\") +\n",
    "    theme(text = element_text(size = 20))\n",
    "\n",
    "plot_grid(RH_distribution_plot_fire, predicted_humidity_dist, ncol = 2)"
   ]
  },
  {
   "cell_type": "markdown",
   "metadata": {},
   "source": [
    "The distributions of relative humidity for the true and predicted classes are also similar in shape. In the training data, there were initially large amounts of overlap in relative humidity between cases of fire and no fire, which has translated to the classifier results. We note that observations with relative humidity below 50% are almost always classified as cases of fire, which aligns with their frequent co-occurrence in the data, but the same cannot be said for those with humidity above 50%."
   ]
  },
  {
   "cell_type": "markdown",
   "metadata": {},
   "source": [
    "Overall, the accuracy of the classifier was estimated at 92.9% on testing data with 85 observations; in other words, 6 observations in the test set were classified incorrectly. In real-life applications of the classifier, a 93% accuracy seems sufficient to determine when to organize interventions to prevent forest fires. At the very least, the classifier's results could provide a reasonably reliable assessment of fire risk. Furthermore, this accuracy may be close to the best we can achieve; given the complexity of the environmental conditions that lead to forest fires, it would be impossible to ever create a perfectly accurate classifier. **(I didn't explicitly address potential applications of our analysis here - but if those won't be discussed in the introduction, we can copy them here)**\n",
    "\n",
    "**(Cite some journal articles too, perhaps)**\n",
    "\n",
    "The causes of forest fires in Algeria are widely unknown; in 2020, the causation for 85% of fires were unknown (Pons, 2020). Our data analysis could lead to asking whether rainfall, temperature, humidity, or FFMC have a direct causality to fire incidence.\n",
    "\n",
    "It may also be beneficial to repeat this analysis with additional data. Since the initial dataset, at 244 observations, was not extremely large, both our accuracy estimate and classifier could be improved by increasing the dataset size. **(Not sure if this is true - maybe it needs more justification)**"
   ]
  },
  {
   "cell_type": "markdown",
   "metadata": {},
   "source": [
    "## References"
   ]
  },
  {
   "cell_type": "markdown",
   "metadata": {},
   "source": [
    "Aini, A., Curt, T., Bekdouche, F. (2020). Modelling fire hazard in the southern Mediterranean fire rim (Bejaia region, northern Algeria). Retrieved March 03, 2021, from\n",
    "https://link.springer.com/article/10.1007/s10661-019-7931-0#Sec1\n",
    "\n",
    "Curt, T., Aini, A., Dupire, S. (2020). Fire activity in Mediterranean forests (The Algerian case). Retrieved March 03, 2021, from\n",
    "https://www.mendeley.com/catalogue/0ad59940-c469-388c-8796-0685cacb334f/\n",
    "\n",
    "De Groot, W. J. (1987, April 2). Interpreting the Canadian Forest Fire Weather Index (FWI) System. Retrieved March 03, 2021, from\n",
    "http://www.dnr.state.mi.us/WWW/FMD/WEATHER/Reference/FWI_Background.pdf\n",
    "\n",
    "Faroudja ABID et al. , \"Predicting Forest Fire in Algeria using Data Mining Techniques: Case Study of the Decision Tree Algorithm\", International Conference on Advanced Intelligent Systems for Sustainable Development (AI2SD 2019) , 08 - 11 July , 2019, Marrakech, Morocco.\n",
    "\n",
    "Pons, J. (2020, June 29). Algeria declares land and space war on forest fires. Retrieved March 03, 2021, from https://atalayar.com/en/content/algeria-declares-land-and-space-war-forest-fires"
   ]
  },
  {
   "cell_type": "code",
   "execution_count": null,
   "metadata": {},
   "outputs": [],
   "source": []
  }
 ],
 "metadata": {
  "kernelspec": {
   "display_name": "R",
   "language": "R",
   "name": "ir"
  },
  "language_info": {
   "codemirror_mode": "r",
   "file_extension": ".r",
   "mimetype": "text/x-r-source",
   "name": "R",
   "pygments_lexer": "r",
   "version": "4.0.0"
  }
 },
 "nbformat": 4,
 "nbformat_minor": 4
}
