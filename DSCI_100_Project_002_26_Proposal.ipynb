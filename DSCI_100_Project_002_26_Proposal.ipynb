{
 "cells": [
  {
   "cell_type": "markdown",
   "metadata": {},
   "source": [
    "Title"
   ]
  },
  {
   "cell_type": "code",
   "execution_count": 1,
   "metadata": {},
   "outputs": [
    {
     "name": "stderr",
     "output_type": "stream",
     "text": [
      "── \u001b[1mAttaching packages\u001b[22m ─────────────────────────────────────── tidyverse 1.3.0 ──\n",
      "\n",
      "\u001b[32m✔\u001b[39m \u001b[34mggplot2\u001b[39m 3.3.2     \u001b[32m✔\u001b[39m \u001b[34mpurrr  \u001b[39m 0.3.4\n",
      "\u001b[32m✔\u001b[39m \u001b[34mtibble \u001b[39m 3.0.3     \u001b[32m✔\u001b[39m \u001b[34mdplyr  \u001b[39m 1.0.2\n",
      "\u001b[32m✔\u001b[39m \u001b[34mtidyr  \u001b[39m 1.1.2     \u001b[32m✔\u001b[39m \u001b[34mstringr\u001b[39m 1.4.0\n",
      "\u001b[32m✔\u001b[39m \u001b[34mreadr  \u001b[39m 1.3.1     \u001b[32m✔\u001b[39m \u001b[34mforcats\u001b[39m 0.5.0\n",
      "\n",
      "Warning message:\n",
      "“package ‘ggplot2’ was built under R version 4.0.1”\n",
      "Warning message:\n",
      "“package ‘tibble’ was built under R version 4.0.2”\n",
      "Warning message:\n",
      "“package ‘tidyr’ was built under R version 4.0.2”\n",
      "Warning message:\n",
      "“package ‘dplyr’ was built under R version 4.0.2”\n",
      "── \u001b[1mConflicts\u001b[22m ────────────────────────────────────────── tidyverse_conflicts() ──\n",
      "\u001b[31m✖\u001b[39m \u001b[34mdplyr\u001b[39m::\u001b[32mfilter()\u001b[39m masks \u001b[34mstats\u001b[39m::filter()\n",
      "\u001b[31m✖\u001b[39m \u001b[34mdplyr\u001b[39m::\u001b[32mlag()\u001b[39m    masks \u001b[34mstats\u001b[39m::lag()\n",
      "\n",
      "Warning message:\n",
      "“package ‘tidymodels’ was built under R version 4.0.2”\n",
      "── \u001b[1mAttaching packages\u001b[22m ────────────────────────────────────── tidymodels 0.1.1 ──\n",
      "\n",
      "\u001b[32m✔\u001b[39m \u001b[34mbroom    \u001b[39m 0.7.0      \u001b[32m✔\u001b[39m \u001b[34mrecipes  \u001b[39m 0.1.13\n",
      "\u001b[32m✔\u001b[39m \u001b[34mdials    \u001b[39m 0.0.9      \u001b[32m✔\u001b[39m \u001b[34mrsample  \u001b[39m 0.0.7 \n",
      "\u001b[32m✔\u001b[39m \u001b[34minfer    \u001b[39m 0.5.4      \u001b[32m✔\u001b[39m \u001b[34mtune     \u001b[39m 0.1.1 \n",
      "\u001b[32m✔\u001b[39m \u001b[34mmodeldata\u001b[39m 0.0.2      \u001b[32m✔\u001b[39m \u001b[34mworkflows\u001b[39m 0.2.0 \n",
      "\u001b[32m✔\u001b[39m \u001b[34mparsnip  \u001b[39m 0.1.3      \u001b[32m✔\u001b[39m \u001b[34myardstick\u001b[39m 0.0.7 \n",
      "\n",
      "Warning message:\n",
      "“package ‘broom’ was built under R version 4.0.2”\n",
      "Warning message:\n",
      "“package ‘dials’ was built under R version 4.0.2”\n",
      "Warning message:\n",
      "“package ‘infer’ was built under R version 4.0.3”\n",
      "Warning message:\n",
      "“package ‘modeldata’ was built under R version 4.0.1”\n",
      "Warning message:\n",
      "“package ‘parsnip’ was built under R version 4.0.2”\n",
      "Warning message:\n",
      "“package ‘recipes’ was built under R version 4.0.1”\n",
      "Warning message:\n",
      "“package ‘tune’ was built under R version 4.0.2”\n",
      "Warning message:\n",
      "“package ‘workflows’ was built under R version 4.0.2”\n",
      "Warning message:\n",
      "“package ‘yardstick’ was built under R version 4.0.2”\n",
      "── \u001b[1mConflicts\u001b[22m ───────────────────────────────────────── tidymodels_conflicts() ──\n",
      "\u001b[31m✖\u001b[39m \u001b[34mscales\u001b[39m::\u001b[32mdiscard()\u001b[39m masks \u001b[34mpurrr\u001b[39m::discard()\n",
      "\u001b[31m✖\u001b[39m \u001b[34mdplyr\u001b[39m::\u001b[32mfilter()\u001b[39m   masks \u001b[34mstats\u001b[39m::filter()\n",
      "\u001b[31m✖\u001b[39m \u001b[34mrecipes\u001b[39m::\u001b[32mfixed()\u001b[39m  masks \u001b[34mstringr\u001b[39m::fixed()\n",
      "\u001b[31m✖\u001b[39m \u001b[34mdplyr\u001b[39m::\u001b[32mlag()\u001b[39m      masks \u001b[34mstats\u001b[39m::lag()\n",
      "\u001b[31m✖\u001b[39m \u001b[34myardstick\u001b[39m::\u001b[32mspec()\u001b[39m masks \u001b[34mreadr\u001b[39m::spec()\n",
      "\u001b[31m✖\u001b[39m \u001b[34mrecipes\u001b[39m::\u001b[32mstep()\u001b[39m   masks \u001b[34mstats\u001b[39m::step()\n",
      "\n"
     ]
    }
   ],
   "source": [
    "library(tidyverse)\n",
    "library(tidymodels)\n",
    "options(repr.matrix.max.rows = 8)"
   ]
  },
  {
   "cell_type": "markdown",
   "metadata": {},
   "source": [
    "Introduction"
   ]
  },
  {
   "cell_type": "markdown",
   "metadata": {},
   "source": [
    "Preliminary exploratory data analysis"
   ]
  },
  {
   "cell_type": "code",
   "execution_count": 2,
   "metadata": {},
   "outputs": [
    {
     "name": "stderr",
     "output_type": "stream",
     "text": [
      "Parsed with column specification:\n",
      "cols(\n",
      "  day = \u001b[31mcol_character()\u001b[39m,\n",
      "  month = \u001b[31mcol_character()\u001b[39m,\n",
      "  year = \u001b[32mcol_double()\u001b[39m,\n",
      "  Temperature = \u001b[32mcol_double()\u001b[39m,\n",
      "  RH = \u001b[32mcol_double()\u001b[39m,\n",
      "  Ws = \u001b[32mcol_double()\u001b[39m,\n",
      "  Rain = \u001b[32mcol_double()\u001b[39m,\n",
      "  FFMC = \u001b[32mcol_double()\u001b[39m,\n",
      "  DMC = \u001b[32mcol_double()\u001b[39m,\n",
      "  DC = \u001b[32mcol_double()\u001b[39m,\n",
      "  ISI = \u001b[32mcol_double()\u001b[39m,\n",
      "  BUI = \u001b[32mcol_double()\u001b[39m,\n",
      "  FWI = \u001b[32mcol_double()\u001b[39m,\n",
      "  Classes = \u001b[31mcol_character()\u001b[39m\n",
      ")\n",
      "\n",
      "Parsed with column specification:\n",
      "cols(\n",
      "  day = \u001b[31mcol_character()\u001b[39m,\n",
      "  month = \u001b[31mcol_character()\u001b[39m,\n",
      "  year = \u001b[32mcol_double()\u001b[39m,\n",
      "  Temperature = \u001b[32mcol_double()\u001b[39m,\n",
      "  RH = \u001b[32mcol_double()\u001b[39m,\n",
      "  Ws = \u001b[32mcol_double()\u001b[39m,\n",
      "  Rain = \u001b[32mcol_double()\u001b[39m,\n",
      "  FFMC = \u001b[32mcol_double()\u001b[39m,\n",
      "  DMC = \u001b[32mcol_double()\u001b[39m,\n",
      "  DC = \u001b[31mcol_character()\u001b[39m,\n",
      "  ISI = \u001b[32mcol_double()\u001b[39m,\n",
      "  BUI = \u001b[32mcol_double()\u001b[39m,\n",
      "  FWI = \u001b[31mcol_character()\u001b[39m,\n",
      "  Classes = \u001b[31mcol_character()\u001b[39m\n",
      ")\n",
      "\n",
      "Warning message:\n",
      "“1 parsing failure.\n",
      "row col   expected     actual                                                                                                       file\n",
      " 44  -- 14 columns 13 columns 'https://archive.ics.uci.edu/ml/machine-learning-databases/00547/Algerian_forest_fires_dataset_UPDATE.csv'\n",
      "”\n"
     ]
    },
    {
     "data": {
      "text/html": [
       "<table>\n",
       "<caption>A tibble: 159 × 16</caption>\n",
       "<thead>\n",
       "\t<tr><th scope=col>day</th><th scope=col>month</th><th scope=col>year</th><th scope=col>Temperature</th><th scope=col>RH</th><th scope=col>Ws</th><th scope=col>Rain</th><th scope=col>FFMC</th><th scope=col>DMC</th><th scope=col>DC</th><th scope=col>ISI</th><th scope=col>BUI</th><th scope=col>FWI</th><th scope=col>Classes</th><th scope=col>Region</th><th scope=col>date</th></tr>\n",
       "\t<tr><th scope=col>&lt;chr&gt;</th><th scope=col>&lt;chr&gt;</th><th scope=col>&lt;dbl&gt;</th><th scope=col>&lt;dbl&gt;</th><th scope=col>&lt;dbl&gt;</th><th scope=col>&lt;dbl&gt;</th><th scope=col>&lt;dbl&gt;</th><th scope=col>&lt;dbl&gt;</th><th scope=col>&lt;dbl&gt;</th><th scope=col>&lt;dbl&gt;</th><th scope=col>&lt;dbl&gt;</th><th scope=col>&lt;dbl&gt;</th><th scope=col>&lt;dbl&gt;</th><th scope=col>&lt;fct&gt;</th><th scope=col>&lt;fct&gt;</th><th scope=col>&lt;date&gt;</th></tr>\n",
       "</thead>\n",
       "<tbody>\n",
       "\t<tr><td>01</td><td>06</td><td>2012</td><td>29</td><td>57</td><td>18</td><td> 0.0</td><td>65.7</td><td>3.4</td><td>7.6</td><td>1.3</td><td>3.4</td><td>0.5</td><td>not fire</td><td>Bejaia</td><td>2012-06-01</td></tr>\n",
       "\t<tr><td>02</td><td>06</td><td>2012</td><td>29</td><td>61</td><td>13</td><td> 1.3</td><td>64.4</td><td>4.1</td><td>7.6</td><td>1.0</td><td>3.9</td><td>0.4</td><td>not fire</td><td>Bejaia</td><td>2012-06-02</td></tr>\n",
       "\t<tr><td>03</td><td>06</td><td>2012</td><td>26</td><td>82</td><td>22</td><td>13.1</td><td>47.1</td><td>2.5</td><td>7.1</td><td>0.3</td><td>2.7</td><td>0.1</td><td>not fire</td><td>Bejaia</td><td>2012-06-03</td></tr>\n",
       "\t<tr><td>04</td><td>06</td><td>2012</td><td>25</td><td>89</td><td>13</td><td> 2.5</td><td>28.6</td><td>1.3</td><td>6.9</td><td>0.0</td><td>1.7</td><td>0.0</td><td>not fire</td><td>Bejaia</td><td>2012-06-04</td></tr>\n",
       "\t<tr><td>⋮</td><td>⋮</td><td>⋮</td><td>⋮</td><td>⋮</td><td>⋮</td><td>⋮</td><td>⋮</td><td>⋮</td><td>⋮</td><td>⋮</td><td>⋮</td><td>⋮</td><td>⋮</td><td>⋮</td><td>⋮</td></tr>\n",
       "\t<tr><td>26</td><td>09</td><td>2012</td><td>30</td><td>65</td><td>14</td><td>0.0</td><td>85.4</td><td>16.0</td><td>44.5</td><td>4.5</td><td>16.9</td><td>6.5</td><td>fire    </td><td>Sidi Bel Abbes</td><td>2012-09-26</td></tr>\n",
       "\t<tr><td>27</td><td>09</td><td>2012</td><td>28</td><td>87</td><td>15</td><td>4.4</td><td>41.1</td><td> 6.5</td><td> 8.0</td><td>0.1</td><td> 6.2</td><td>0.0</td><td>not fire</td><td>Sidi Bel Abbes</td><td>2012-09-27</td></tr>\n",
       "\t<tr><td>28</td><td>09</td><td>2012</td><td>27</td><td>87</td><td>29</td><td>0.5</td><td>45.9</td><td> 3.5</td><td> 7.9</td><td>0.4</td><td> 3.4</td><td>0.2</td><td>not fire</td><td>Sidi Bel Abbes</td><td>2012-09-28</td></tr>\n",
       "\t<tr><td>29</td><td>09</td><td>2012</td><td>24</td><td>54</td><td>18</td><td>0.1</td><td>79.7</td><td> 4.3</td><td>15.2</td><td>1.7</td><td> 5.1</td><td>0.7</td><td>not fire</td><td>Sidi Bel Abbes</td><td>2012-09-29</td></tr>\n",
       "</tbody>\n",
       "</table>\n"
      ],
      "text/latex": [
       "A tibble: 159 × 16\n",
       "\\begin{tabular}{llllllllllllllll}\n",
       " day & month & year & Temperature & RH & Ws & Rain & FFMC & DMC & DC & ISI & BUI & FWI & Classes & Region & date\\\\\n",
       " <chr> & <chr> & <dbl> & <dbl> & <dbl> & <dbl> & <dbl> & <dbl> & <dbl> & <dbl> & <dbl> & <dbl> & <dbl> & <fct> & <fct> & <date>\\\\\n",
       "\\hline\n",
       "\t 01 & 06 & 2012 & 29 & 57 & 18 &  0.0 & 65.7 & 3.4 & 7.6 & 1.3 & 3.4 & 0.5 & not fire & Bejaia & 2012-06-01\\\\\n",
       "\t 02 & 06 & 2012 & 29 & 61 & 13 &  1.3 & 64.4 & 4.1 & 7.6 & 1.0 & 3.9 & 0.4 & not fire & Bejaia & 2012-06-02\\\\\n",
       "\t 03 & 06 & 2012 & 26 & 82 & 22 & 13.1 & 47.1 & 2.5 & 7.1 & 0.3 & 2.7 & 0.1 & not fire & Bejaia & 2012-06-03\\\\\n",
       "\t 04 & 06 & 2012 & 25 & 89 & 13 &  2.5 & 28.6 & 1.3 & 6.9 & 0.0 & 1.7 & 0.0 & not fire & Bejaia & 2012-06-04\\\\\n",
       "\t ⋮ & ⋮ & ⋮ & ⋮ & ⋮ & ⋮ & ⋮ & ⋮ & ⋮ & ⋮ & ⋮ & ⋮ & ⋮ & ⋮ & ⋮ & ⋮\\\\\n",
       "\t 26 & 09 & 2012 & 30 & 65 & 14 & 0.0 & 85.4 & 16.0 & 44.5 & 4.5 & 16.9 & 6.5 & fire     & Sidi Bel Abbes & 2012-09-26\\\\\n",
       "\t 27 & 09 & 2012 & 28 & 87 & 15 & 4.4 & 41.1 &  6.5 &  8.0 & 0.1 &  6.2 & 0.0 & not fire & Sidi Bel Abbes & 2012-09-27\\\\\n",
       "\t 28 & 09 & 2012 & 27 & 87 & 29 & 0.5 & 45.9 &  3.5 &  7.9 & 0.4 &  3.4 & 0.2 & not fire & Sidi Bel Abbes & 2012-09-28\\\\\n",
       "\t 29 & 09 & 2012 & 24 & 54 & 18 & 0.1 & 79.7 &  4.3 & 15.2 & 1.7 &  5.1 & 0.7 & not fire & Sidi Bel Abbes & 2012-09-29\\\\\n",
       "\\end{tabular}\n"
      ],
      "text/markdown": [
       "\n",
       "A tibble: 159 × 16\n",
       "\n",
       "| day &lt;chr&gt; | month &lt;chr&gt; | year &lt;dbl&gt; | Temperature &lt;dbl&gt; | RH &lt;dbl&gt; | Ws &lt;dbl&gt; | Rain &lt;dbl&gt; | FFMC &lt;dbl&gt; | DMC &lt;dbl&gt; | DC &lt;dbl&gt; | ISI &lt;dbl&gt; | BUI &lt;dbl&gt; | FWI &lt;dbl&gt; | Classes &lt;fct&gt; | Region &lt;fct&gt; | date &lt;date&gt; |\n",
       "|---|---|---|---|---|---|---|---|---|---|---|---|---|---|---|---|\n",
       "| 01 | 06 | 2012 | 29 | 57 | 18 |  0.0 | 65.7 | 3.4 | 7.6 | 1.3 | 3.4 | 0.5 | not fire | Bejaia | 2012-06-01 |\n",
       "| 02 | 06 | 2012 | 29 | 61 | 13 |  1.3 | 64.4 | 4.1 | 7.6 | 1.0 | 3.9 | 0.4 | not fire | Bejaia | 2012-06-02 |\n",
       "| 03 | 06 | 2012 | 26 | 82 | 22 | 13.1 | 47.1 | 2.5 | 7.1 | 0.3 | 2.7 | 0.1 | not fire | Bejaia | 2012-06-03 |\n",
       "| 04 | 06 | 2012 | 25 | 89 | 13 |  2.5 | 28.6 | 1.3 | 6.9 | 0.0 | 1.7 | 0.0 | not fire | Bejaia | 2012-06-04 |\n",
       "| ⋮ | ⋮ | ⋮ | ⋮ | ⋮ | ⋮ | ⋮ | ⋮ | ⋮ | ⋮ | ⋮ | ⋮ | ⋮ | ⋮ | ⋮ | ⋮ |\n",
       "| 26 | 09 | 2012 | 30 | 65 | 14 | 0.0 | 85.4 | 16.0 | 44.5 | 4.5 | 16.9 | 6.5 | fire     | Sidi Bel Abbes | 2012-09-26 |\n",
       "| 27 | 09 | 2012 | 28 | 87 | 15 | 4.4 | 41.1 |  6.5 |  8.0 | 0.1 |  6.2 | 0.0 | not fire | Sidi Bel Abbes | 2012-09-27 |\n",
       "| 28 | 09 | 2012 | 27 | 87 | 29 | 0.5 | 45.9 |  3.5 |  7.9 | 0.4 |  3.4 | 0.2 | not fire | Sidi Bel Abbes | 2012-09-28 |\n",
       "| 29 | 09 | 2012 | 24 | 54 | 18 | 0.1 | 79.7 |  4.3 | 15.2 | 1.7 |  5.1 | 0.7 | not fire | Sidi Bel Abbes | 2012-09-29 |\n",
       "\n"
      ],
      "text/plain": [
       "    day month year Temperature RH Ws Rain FFMC DMC  DC   ISI BUI  FWI Classes \n",
       "1   01  06    2012 29          57 18  0.0 65.7 3.4  7.6  1.3 3.4  0.5 not fire\n",
       "2   02  06    2012 29          61 13  1.3 64.4 4.1  7.6  1.0 3.9  0.4 not fire\n",
       "3   03  06    2012 26          82 22 13.1 47.1 2.5  7.1  0.3 2.7  0.1 not fire\n",
       "4   04  06    2012 25          89 13  2.5 28.6 1.3  6.9  0.0 1.7  0.0 not fire\n",
       "⋮   ⋮   ⋮     ⋮    ⋮           ⋮  ⋮  ⋮    ⋮    ⋮    ⋮    ⋮   ⋮    ⋮   ⋮       \n",
       "156 26  09    2012 30          65 14 0.0  85.4 16.0 44.5 4.5 16.9 6.5 fire    \n",
       "157 27  09    2012 28          87 15 4.4  41.1  6.5  8.0 0.1  6.2 0.0 not fire\n",
       "158 28  09    2012 27          87 29 0.5  45.9  3.5  7.9 0.4  3.4 0.2 not fire\n",
       "159 29  09    2012 24          54 18 0.1  79.7  4.3 15.2 1.7  5.1 0.7 not fire\n",
       "    Region         date      \n",
       "1   Bejaia         2012-06-01\n",
       "2   Bejaia         2012-06-02\n",
       "3   Bejaia         2012-06-03\n",
       "4   Bejaia         2012-06-04\n",
       "⋮   ⋮              ⋮         \n",
       "156 Sidi Bel Abbes 2012-09-26\n",
       "157 Sidi Bel Abbes 2012-09-27\n",
       "158 Sidi Bel Abbes 2012-09-28\n",
       "159 Sidi Bel Abbes 2012-09-29"
      ]
     },
     "metadata": {},
     "output_type": "display_data"
    }
   ],
   "source": [
    "## Load datasets from URL\n",
    "\n",
    "algerian_forest_fire_Bejaia <- read_csv(\"https://archive.ics.uci.edu/ml/machine-learning-databases/00547/Algerian_forest_fires_dataset_UPDATE.csv\", \n",
    "                                 skip = 1, n_max = 122) %>%\n",
    "    mutate(Region = \"Bejaia\")\n",
    "\n",
    "algerian_forest_fire_Sidi_Bel_Abbes <- read_csv(\"https://archive.ics.uci.edu/ml/machine-learning-databases/00547/Algerian_forest_fires_dataset_UPDATE.csv\",\n",
    "                                               skip = 126) %>%\n",
    "    mutate(Region = \"Sidi Bel Abbes\")\n",
    "\n",
    "## Merge datasets\n",
    "\n",
    "algeria_forest_fire_all_data <- rbind(algerian_forest_fire_Bejaia, algerian_forest_fire_Sidi_Bel_Abbes) %>%\n",
    "    mutate(Classes = as_factor(Classes)) %>%\n",
    "    mutate(Region = as_factor(Region))\n",
    "\n",
    "## TEMPORARY SOLUTION: Remove row with typo\n",
    "# algeria_forest_fire_all_data <- algeria_forest_fire_all_data[-c(166),] %>%\n",
    "#    mutate(DC = as.numeric(DC)) %>%\n",
    "#    mutate(FWI = as.numeric(FWI))\n",
    "\n",
    "## PROPOSED SOLUTION: Manually set values of incorrect columns, convert DC and FWI to numeric type\n",
    "\n",
    "algeria_forest_fire_all_data[166, 10] <- '14.6'\n",
    "algeria_forest_fire_all_data[166, 11] <- 9\n",
    "algeria_forest_fire_all_data[166, 12] <- 12.5\n",
    "algeria_forest_fire_all_data[166, 13] <- '10.4'\n",
    "algeria_forest_fire_all_data[166, 14] <- \"fire\" \n",
    "\n",
    "algeria_forest_fire_all_data <- algeria_forest_fire_all_data %>%\n",
    "    mutate(DC = as.numeric(DC)) %>%\n",
    "    mutate(FWI = as.numeric(FWI))\n",
    "\n",
    "## Create date column\n",
    "algeria_forest_fire_all_data <- algeria_forest_fire_all_data %>%\n",
    "    mutate(date = as.Date(paste(year, month, day, sep='-')))\n",
    "\n",
    "## Create training dataset\n",
    "\n",
    "set.seed(38)\n",
    "\n",
    "forest_fire_split <- initial_split(algeria_forest_fire_all_data, prop = 0.65, strata = Classes)\n",
    "forest_fire_train <- training(forest_fire_split)\n",
    "forest_fire_test <- testing(forest_fire_split)\n",
    "\n",
    "forest_fire_train\n"
   ]
  },
  {
   "cell_type": "markdown",
   "metadata": {},
   "source": [
    "Methods"
   ]
  },
  {
   "cell_type": "markdown",
   "metadata": {},
   "source": [
    "Expected outcomes and significance"
   ]
  },
  {
   "cell_type": "code",
   "execution_count": 15,
   "metadata": {},
   "outputs": [
    {
     "data": {
      "text/html": [
       "<table>\n",
       "<caption>A tibble: 1 × 10</caption>\n",
       "<thead>\n",
       "\t<tr><th scope=col>Temperature</th><th scope=col>RH</th><th scope=col>Ws</th><th scope=col>Rain</th><th scope=col>FFMC</th><th scope=col>DMC</th><th scope=col>DC</th><th scope=col>ISI</th><th scope=col>BUI</th><th scope=col>FWI</th></tr>\n",
       "\t<tr><th scope=col>&lt;dbl&gt;</th><th scope=col>&lt;dbl&gt;</th><th scope=col>&lt;dbl&gt;</th><th scope=col>&lt;dbl&gt;</th><th scope=col>&lt;dbl&gt;</th><th scope=col>&lt;dbl&gt;</th><th scope=col>&lt;dbl&gt;</th><th scope=col>&lt;dbl&gt;</th><th scope=col>&lt;dbl&gt;</th><th scope=col>&lt;dbl&gt;</th></tr>\n",
       "</thead>\n",
       "<tbody>\n",
       "\t<tr><td>31.18667</td><td>68.54667</td><td>16.05333</td><td>1.013333</td><td>74.12667</td><td>12.99733</td><td>57.10933</td><td>3.585333</td><td>16.35467</td><td>5.68</td></tr>\n",
       "</tbody>\n",
       "</table>\n"
      ],
      "text/latex": [
       "A tibble: 1 × 10\n",
       "\\begin{tabular}{llllllllll}\n",
       " Temperature & RH & Ws & Rain & FFMC & DMC & DC & ISI & BUI & FWI\\\\\n",
       " <dbl> & <dbl> & <dbl> & <dbl> & <dbl> & <dbl> & <dbl> & <dbl> & <dbl> & <dbl>\\\\\n",
       "\\hline\n",
       "\t 31.18667 & 68.54667 & 16.05333 & 1.013333 & 74.12667 & 12.99733 & 57.10933 & 3.585333 & 16.35467 & 5.68\\\\\n",
       "\\end{tabular}\n"
      ],
      "text/markdown": [
       "\n",
       "A tibble: 1 × 10\n",
       "\n",
       "| Temperature &lt;dbl&gt; | RH &lt;dbl&gt; | Ws &lt;dbl&gt; | Rain &lt;dbl&gt; | FFMC &lt;dbl&gt; | DMC &lt;dbl&gt; | DC &lt;dbl&gt; | ISI &lt;dbl&gt; | BUI &lt;dbl&gt; | FWI &lt;dbl&gt; |\n",
       "|---|---|---|---|---|---|---|---|---|---|\n",
       "| 31.18667 | 68.54667 | 16.05333 | 1.013333 | 74.12667 | 12.99733 | 57.10933 | 3.585333 | 16.35467 | 5.68 |\n",
       "\n"
      ],
      "text/plain": [
       "  Temperature RH       Ws       Rain     FFMC     DMC      DC       ISI     \n",
       "1 31.18667    68.54667 16.05333 1.013333 74.12667 12.99733 57.10933 3.585333\n",
       "  BUI      FWI \n",
       "1 16.35467 5.68"
      ]
     },
     "metadata": {},
     "output_type": "display_data"
    },
    {
     "data": {
      "text/html": [
       "<table>\n",
       "<caption>A tibble: 1 × 10</caption>\n",
       "<thead>\n",
       "\t<tr><th scope=col>Temperature</th><th scope=col>RH</th><th scope=col>Ws</th><th scope=col>Rain</th><th scope=col>FFMC</th><th scope=col>DMC</th><th scope=col>DC</th><th scope=col>ISI</th><th scope=col>BUI</th><th scope=col>FWI</th></tr>\n",
       "\t<tr><th scope=col>&lt;dbl&gt;</th><th scope=col>&lt;dbl&gt;</th><th scope=col>&lt;dbl&gt;</th><th scope=col>&lt;dbl&gt;</th><th scope=col>&lt;dbl&gt;</th><th scope=col>&lt;dbl&gt;</th><th scope=col>&lt;dbl&gt;</th><th scope=col>&lt;dbl&gt;</th><th scope=col>&lt;dbl&gt;</th><th scope=col>&lt;dbl&gt;</th></tr>\n",
       "</thead>\n",
       "<tbody>\n",
       "\t<tr><td>32.86905</td><td>56.52381</td><td>14.97619</td><td>0.5083333</td><td>80.8131</td><td>16.2381</td><td>44.9881</td><td>5.778571</td><td>17.18095</td><td>8.164286</td></tr>\n",
       "</tbody>\n",
       "</table>\n"
      ],
      "text/latex": [
       "A tibble: 1 × 10\n",
       "\\begin{tabular}{llllllllll}\n",
       " Temperature & RH & Ws & Rain & FFMC & DMC & DC & ISI & BUI & FWI\\\\\n",
       " <dbl> & <dbl> & <dbl> & <dbl> & <dbl> & <dbl> & <dbl> & <dbl> & <dbl> & <dbl>\\\\\n",
       "\\hline\n",
       "\t 32.86905 & 56.52381 & 14.97619 & 0.5083333 & 80.8131 & 16.2381 & 44.9881 & 5.778571 & 17.18095 & 8.164286\\\\\n",
       "\\end{tabular}\n"
      ],
      "text/markdown": [
       "\n",
       "A tibble: 1 × 10\n",
       "\n",
       "| Temperature &lt;dbl&gt; | RH &lt;dbl&gt; | Ws &lt;dbl&gt; | Rain &lt;dbl&gt; | FFMC &lt;dbl&gt; | DMC &lt;dbl&gt; | DC &lt;dbl&gt; | ISI &lt;dbl&gt; | BUI &lt;dbl&gt; | FWI &lt;dbl&gt; |\n",
       "|---|---|---|---|---|---|---|---|---|---|\n",
       "| 32.86905 | 56.52381 | 14.97619 | 0.5083333 | 80.8131 | 16.2381 | 44.9881 | 5.778571 | 17.18095 | 8.164286 |\n",
       "\n"
      ],
      "text/plain": [
       "  Temperature RH       Ws       Rain      FFMC    DMC     DC      ISI     \n",
       "1 32.86905    56.52381 14.97619 0.5083333 80.8131 16.2381 44.9881 5.778571\n",
       "  BUI      FWI     \n",
       "1 17.18095 8.164286"
      ]
     },
     "metadata": {},
     "output_type": "display_data"
    },
    {
     "data": {
      "text/html": [
       "<table>\n",
       "<caption>A tibble: 1 × 10</caption>\n",
       "<thead>\n",
       "\t<tr><th scope=col>Temperature</th><th scope=col>RH</th><th scope=col>Ws</th><th scope=col>Rain</th><th scope=col>FFMC</th><th scope=col>DMC</th><th scope=col>DC</th><th scope=col>ISI</th><th scope=col>BUI</th><th scope=col>FWI</th></tr>\n",
       "\t<tr><th scope=col>&lt;dbl&gt;</th><th scope=col>&lt;dbl&gt;</th><th scope=col>&lt;dbl&gt;</th><th scope=col>&lt;dbl&gt;</th><th scope=col>&lt;dbl&gt;</th><th scope=col>&lt;dbl&gt;</th><th scope=col>&lt;dbl&gt;</th><th scope=col>&lt;dbl&gt;</th><th scope=col>&lt;dbl&gt;</th><th scope=col>&lt;dbl&gt;</th></tr>\n",
       "</thead>\n",
       "<tbody>\n",
       "\t<tr><td>32.07547</td><td>62.19497</td><td>15.48428</td><td>0.7465409</td><td>77.65912</td><td>14.70943</td><td>50.70566</td><td>4.744025</td><td>16.79119</td><td>6.992453</td></tr>\n",
       "</tbody>\n",
       "</table>\n"
      ],
      "text/latex": [
       "A tibble: 1 × 10\n",
       "\\begin{tabular}{llllllllll}\n",
       " Temperature & RH & Ws & Rain & FFMC & DMC & DC & ISI & BUI & FWI\\\\\n",
       " <dbl> & <dbl> & <dbl> & <dbl> & <dbl> & <dbl> & <dbl> & <dbl> & <dbl> & <dbl>\\\\\n",
       "\\hline\n",
       "\t 32.07547 & 62.19497 & 15.48428 & 0.7465409 & 77.65912 & 14.70943 & 50.70566 & 4.744025 & 16.79119 & 6.992453\\\\\n",
       "\\end{tabular}\n"
      ],
      "text/markdown": [
       "\n",
       "A tibble: 1 × 10\n",
       "\n",
       "| Temperature &lt;dbl&gt; | RH &lt;dbl&gt; | Ws &lt;dbl&gt; | Rain &lt;dbl&gt; | FFMC &lt;dbl&gt; | DMC &lt;dbl&gt; | DC &lt;dbl&gt; | ISI &lt;dbl&gt; | BUI &lt;dbl&gt; | FWI &lt;dbl&gt; |\n",
       "|---|---|---|---|---|---|---|---|---|---|\n",
       "| 32.07547 | 62.19497 | 15.48428 | 0.7465409 | 77.65912 | 14.70943 | 50.70566 | 4.744025 | 16.79119 | 6.992453 |\n",
       "\n"
      ],
      "text/plain": [
       "  Temperature RH       Ws       Rain      FFMC     DMC      DC       ISI     \n",
       "1 32.07547    62.19497 15.48428 0.7465409 77.65912 14.70943 50.70566 4.744025\n",
       "  BUI      FWI     \n",
       "1 16.79119 6.992453"
      ]
     },
     "metadata": {},
     "output_type": "display_data"
    },
    {
     "data": {
      "text/html": [
       "<table>\n",
       "<caption>A tibble: 1 × 10</caption>\n",
       "<thead>\n",
       "\t<tr><th scope=col>Temperature</th><th scope=col>RH</th><th scope=col>Ws</th><th scope=col>Rain</th><th scope=col>FFMC</th><th scope=col>DMC</th><th scope=col>DC</th><th scope=col>ISI</th><th scope=col>BUI</th><th scope=col>FWI</th></tr>\n",
       "\t<tr><th scope=col>&lt;dbl&gt;</th><th scope=col>&lt;dbl&gt;</th><th scope=col>&lt;dbl&gt;</th><th scope=col>&lt;dbl&gt;</th><th scope=col>&lt;dbl&gt;</th><th scope=col>&lt;dbl&gt;</th><th scope=col>&lt;dbl&gt;</th><th scope=col>&lt;dbl&gt;</th><th scope=col>&lt;dbl&gt;</th><th scope=col>&lt;dbl&gt;</th></tr>\n",
       "</thead>\n",
       "<tbody>\n",
       "\t<tr><td>33.16667</td><td>63.66667</td><td>15.86111</td><td>0.02222222</td><td>86.29444</td><td>20.63889</td><td>91.06111</td><td>6.183333</td><td>26.13056</td><td>10.87222</td></tr>\n",
       "</tbody>\n",
       "</table>\n"
      ],
      "text/latex": [
       "A tibble: 1 × 10\n",
       "\\begin{tabular}{llllllllll}\n",
       " Temperature & RH & Ws & Rain & FFMC & DMC & DC & ISI & BUI & FWI\\\\\n",
       " <dbl> & <dbl> & <dbl> & <dbl> & <dbl> & <dbl> & <dbl> & <dbl> & <dbl> & <dbl>\\\\\n",
       "\\hline\n",
       "\t 33.16667 & 63.66667 & 15.86111 & 0.02222222 & 86.29444 & 20.63889 & 91.06111 & 6.183333 & 26.13056 & 10.87222\\\\\n",
       "\\end{tabular}\n"
      ],
      "text/markdown": [
       "\n",
       "A tibble: 1 × 10\n",
       "\n",
       "| Temperature &lt;dbl&gt; | RH &lt;dbl&gt; | Ws &lt;dbl&gt; | Rain &lt;dbl&gt; | FFMC &lt;dbl&gt; | DMC &lt;dbl&gt; | DC &lt;dbl&gt; | ISI &lt;dbl&gt; | BUI &lt;dbl&gt; | FWI &lt;dbl&gt; |\n",
       "|---|---|---|---|---|---|---|---|---|---|\n",
       "| 33.16667 | 63.66667 | 15.86111 | 0.02222222 | 86.29444 | 20.63889 | 91.06111 | 6.183333 | 26.13056 | 10.87222 |\n",
       "\n"
      ],
      "text/plain": [
       "  Temperature RH       Ws       Rain       FFMC     DMC      DC       ISI     \n",
       "1 33.16667    63.66667 15.86111 0.02222222 86.29444 20.63889 91.06111 6.183333\n",
       "  BUI      FWI     \n",
       "1 26.13056 10.87222"
      ]
     },
     "metadata": {},
     "output_type": "display_data"
    },
    {
     "data": {
      "text/html": [
       "<table>\n",
       "<caption>A tibble: 1 × 10</caption>\n",
       "<thead>\n",
       "\t<tr><th scope=col>Temperature</th><th scope=col>RH</th><th scope=col>Ws</th><th scope=col>Rain</th><th scope=col>FFMC</th><th scope=col>DMC</th><th scope=col>DC</th><th scope=col>ISI</th><th scope=col>BUI</th><th scope=col>FWI</th></tr>\n",
       "\t<tr><th scope=col>&lt;dbl&gt;</th><th scope=col>&lt;dbl&gt;</th><th scope=col>&lt;dbl&gt;</th><th scope=col>&lt;dbl&gt;</th><th scope=col>&lt;dbl&gt;</th><th scope=col>&lt;dbl&gt;</th><th scope=col>&lt;dbl&gt;</th><th scope=col>&lt;dbl&gt;</th><th scope=col>&lt;dbl&gt;</th><th scope=col>&lt;dbl&gt;</th></tr>\n",
       "</thead>\n",
       "<tbody>\n",
       "\t<tr><td>29.35897</td><td>73.05128</td><td>16.23077</td><td>1.928205</td><td>62.89487</td><td>5.94359</td><td>25.76923</td><td>1.187179</td><td>7.330769</td><td>0.8871795</td></tr>\n",
       "</tbody>\n",
       "</table>\n"
      ],
      "text/latex": [
       "A tibble: 1 × 10\n",
       "\\begin{tabular}{llllllllll}\n",
       " Temperature & RH & Ws & Rain & FFMC & DMC & DC & ISI & BUI & FWI\\\\\n",
       " <dbl> & <dbl> & <dbl> & <dbl> & <dbl> & <dbl> & <dbl> & <dbl> & <dbl> & <dbl>\\\\\n",
       "\\hline\n",
       "\t 29.35897 & 73.05128 & 16.23077 & 1.928205 & 62.89487 & 5.94359 & 25.76923 & 1.187179 & 7.330769 & 0.8871795\\\\\n",
       "\\end{tabular}\n"
      ],
      "text/markdown": [
       "\n",
       "A tibble: 1 × 10\n",
       "\n",
       "| Temperature &lt;dbl&gt; | RH &lt;dbl&gt; | Ws &lt;dbl&gt; | Rain &lt;dbl&gt; | FFMC &lt;dbl&gt; | DMC &lt;dbl&gt; | DC &lt;dbl&gt; | ISI &lt;dbl&gt; | BUI &lt;dbl&gt; | FWI &lt;dbl&gt; |\n",
       "|---|---|---|---|---|---|---|---|---|---|\n",
       "| 29.35897 | 73.05128 | 16.23077 | 1.928205 | 62.89487 | 5.94359 | 25.76923 | 1.187179 | 7.330769 | 0.8871795 |\n",
       "\n"
      ],
      "text/plain": [
       "  Temperature RH       Ws       Rain     FFMC     DMC     DC       ISI     \n",
       "1 29.35897    73.05128 16.23077 1.928205 62.89487 5.94359 25.76923 1.187179\n",
       "  BUI      FWI      \n",
       "1 7.330769 0.8871795"
      ]
     },
     "metadata": {},
     "output_type": "display_data"
    },
    {
     "data": {
      "text/html": [
       "<table>\n",
       "<caption>A tibble: 1 × 10</caption>\n",
       "<thead>\n",
       "\t<tr><th scope=col>Temperature</th><th scope=col>RH</th><th scope=col>Ws</th><th scope=col>Rain</th><th scope=col>FFMC</th><th scope=col>DMC</th><th scope=col>DC</th><th scope=col>ISI</th><th scope=col>BUI</th><th scope=col>FWI</th></tr>\n",
       "\t<tr><th scope=col>&lt;dbl&gt;</th><th scope=col>&lt;dbl&gt;</th><th scope=col>&lt;dbl&gt;</th><th scope=col>&lt;dbl&gt;</th><th scope=col>&lt;dbl&gt;</th><th scope=col>&lt;dbl&gt;</th><th scope=col>&lt;dbl&gt;</th><th scope=col>&lt;dbl&gt;</th><th scope=col>&lt;dbl&gt;</th><th scope=col>&lt;dbl&gt;</th></tr>\n",
       "</thead>\n",
       "<tbody>\n",
       "\t<tr><td>34.31481</td><td>51.33333</td><td>14.85185</td><td>0.06666667</td><td>88.26852</td><td>20.77407</td><td>57.7463</td><td>8.237037</td><td>22.21296</td><td>12.07963</td></tr>\n",
       "</tbody>\n",
       "</table>\n"
      ],
      "text/latex": [
       "A tibble: 1 × 10\n",
       "\\begin{tabular}{llllllllll}\n",
       " Temperature & RH & Ws & Rain & FFMC & DMC & DC & ISI & BUI & FWI\\\\\n",
       " <dbl> & <dbl> & <dbl> & <dbl> & <dbl> & <dbl> & <dbl> & <dbl> & <dbl> & <dbl>\\\\\n",
       "\\hline\n",
       "\t 34.31481 & 51.33333 & 14.85185 & 0.06666667 & 88.26852 & 20.77407 & 57.7463 & 8.237037 & 22.21296 & 12.07963\\\\\n",
       "\\end{tabular}\n"
      ],
      "text/markdown": [
       "\n",
       "A tibble: 1 × 10\n",
       "\n",
       "| Temperature &lt;dbl&gt; | RH &lt;dbl&gt; | Ws &lt;dbl&gt; | Rain &lt;dbl&gt; | FFMC &lt;dbl&gt; | DMC &lt;dbl&gt; | DC &lt;dbl&gt; | ISI &lt;dbl&gt; | BUI &lt;dbl&gt; | FWI &lt;dbl&gt; |\n",
       "|---|---|---|---|---|---|---|---|---|---|\n",
       "| 34.31481 | 51.33333 | 14.85185 | 0.06666667 | 88.26852 | 20.77407 | 57.7463 | 8.237037 | 22.21296 | 12.07963 |\n",
       "\n"
      ],
      "text/plain": [
       "  Temperature RH       Ws       Rain       FFMC     DMC      DC      ISI     \n",
       "1 34.31481    51.33333 14.85185 0.06666667 88.26852 20.77407 57.7463 8.237037\n",
       "  BUI      FWI     \n",
       "1 22.21296 12.07963"
      ]
     },
     "metadata": {},
     "output_type": "display_data"
    },
    {
     "data": {
      "text/html": [
       "<table>\n",
       "<caption>A tibble: 1 × 10</caption>\n",
       "<thead>\n",
       "\t<tr><th scope=col>Temperature</th><th scope=col>RH</th><th scope=col>Ws</th><th scope=col>Rain</th><th scope=col>FFMC</th><th scope=col>DMC</th><th scope=col>DC</th><th scope=col>ISI</th><th scope=col>BUI</th><th scope=col>FWI</th></tr>\n",
       "\t<tr><th scope=col>&lt;dbl&gt;</th><th scope=col>&lt;dbl&gt;</th><th scope=col>&lt;dbl&gt;</th><th scope=col>&lt;dbl&gt;</th><th scope=col>&lt;dbl&gt;</th><th scope=col>&lt;dbl&gt;</th><th scope=col>&lt;dbl&gt;</th><th scope=col>&lt;dbl&gt;</th><th scope=col>&lt;dbl&gt;</th><th scope=col>&lt;dbl&gt;</th></tr>\n",
       "</thead>\n",
       "<tbody>\n",
       "\t<tr><td>30.26667</td><td>65.86667</td><td>15.2</td><td>1.303333</td><td>67.39333</td><td>8.073333</td><td>22.02333</td><td>1.353333</td><td>8.123333</td><td>1.116667</td></tr>\n",
       "</tbody>\n",
       "</table>\n"
      ],
      "text/latex": [
       "A tibble: 1 × 10\n",
       "\\begin{tabular}{llllllllll}\n",
       " Temperature & RH & Ws & Rain & FFMC & DMC & DC & ISI & BUI & FWI\\\\\n",
       " <dbl> & <dbl> & <dbl> & <dbl> & <dbl> & <dbl> & <dbl> & <dbl> & <dbl> & <dbl>\\\\\n",
       "\\hline\n",
       "\t 30.26667 & 65.86667 & 15.2 & 1.303333 & 67.39333 & 8.073333 & 22.02333 & 1.353333 & 8.123333 & 1.116667\\\\\n",
       "\\end{tabular}\n"
      ],
      "text/markdown": [
       "\n",
       "A tibble: 1 × 10\n",
       "\n",
       "| Temperature &lt;dbl&gt; | RH &lt;dbl&gt; | Ws &lt;dbl&gt; | Rain &lt;dbl&gt; | FFMC &lt;dbl&gt; | DMC &lt;dbl&gt; | DC &lt;dbl&gt; | ISI &lt;dbl&gt; | BUI &lt;dbl&gt; | FWI &lt;dbl&gt; |\n",
       "|---|---|---|---|---|---|---|---|---|---|\n",
       "| 30.26667 | 65.86667 | 15.2 | 1.303333 | 67.39333 | 8.073333 | 22.02333 | 1.353333 | 8.123333 | 1.116667 |\n",
       "\n"
      ],
      "text/plain": [
       "  Temperature RH       Ws   Rain     FFMC     DMC      DC       ISI     \n",
       "1 30.26667    65.86667 15.2 1.303333 67.39333 8.073333 22.02333 1.353333\n",
       "  BUI      FWI     \n",
       "1 8.123333 1.116667"
      ]
     },
     "metadata": {},
     "output_type": "display_data"
    },
    {
     "data": {
      "text/html": [
       "<table>\n",
       "<caption>A tibble: 1 × 10</caption>\n",
       "<thead>\n",
       "\t<tr><th scope=col>Temperature</th><th scope=col>RH</th><th scope=col>Ws</th><th scope=col>Rain</th><th scope=col>FFMC</th><th scope=col>DMC</th><th scope=col>DC</th><th scope=col>ISI</th><th scope=col>BUI</th><th scope=col>FWI</th></tr>\n",
       "\t<tr><th scope=col>&lt;dbl&gt;</th><th scope=col>&lt;dbl&gt;</th><th scope=col>&lt;dbl&gt;</th><th scope=col>&lt;dbl&gt;</th><th scope=col>&lt;dbl&gt;</th><th scope=col>&lt;dbl&gt;</th><th scope=col>&lt;dbl&gt;</th><th scope=col>&lt;dbl&gt;</th><th scope=col>&lt;dbl&gt;</th><th scope=col>&lt;dbl&gt;</th></tr>\n",
       "</thead>\n",
       "<tbody>\n",
       "\t<tr><td>31</td><td>67</td><td>16</td><td>0</td><td>80.1</td><td>8.7</td><td>38.8</td><td>2.6</td><td>10.9</td><td>2.6</td></tr>\n",
       "</tbody>\n",
       "</table>\n"
      ],
      "text/latex": [
       "A tibble: 1 × 10\n",
       "\\begin{tabular}{llllllllll}\n",
       " Temperature & RH & Ws & Rain & FFMC & DMC & DC & ISI & BUI & FWI\\\\\n",
       " <dbl> & <dbl> & <dbl> & <dbl> & <dbl> & <dbl> & <dbl> & <dbl> & <dbl> & <dbl>\\\\\n",
       "\\hline\n",
       "\t 31 & 67 & 16 & 0 & 80.1 & 8.7 & 38.8 & 2.6 & 10.9 & 2.6\\\\\n",
       "\\end{tabular}\n"
      ],
      "text/markdown": [
       "\n",
       "A tibble: 1 × 10\n",
       "\n",
       "| Temperature &lt;dbl&gt; | RH &lt;dbl&gt; | Ws &lt;dbl&gt; | Rain &lt;dbl&gt; | FFMC &lt;dbl&gt; | DMC &lt;dbl&gt; | DC &lt;dbl&gt; | ISI &lt;dbl&gt; | BUI &lt;dbl&gt; | FWI &lt;dbl&gt; |\n",
       "|---|---|---|---|---|---|---|---|---|---|\n",
       "| 31 | 67 | 16 | 0 | 80.1 | 8.7 | 38.8 | 2.6 | 10.9 | 2.6 |\n",
       "\n"
      ],
      "text/plain": [
       "  Temperature RH Ws Rain FFMC DMC DC   ISI BUI  FWI\n",
       "1 31          67 16 0    80.1 8.7 38.8 2.6 10.9 2.6"
      ]
     },
     "metadata": {},
     "output_type": "display_data"
    },
    {
     "data": {
      "text/html": [
       "<table>\n",
       "<caption>A tibble: 1 × 10</caption>\n",
       "<thead>\n",
       "\t<tr><th scope=col>Temperature</th><th scope=col>RH</th><th scope=col>Ws</th><th scope=col>Rain</th><th scope=col>FFMC</th><th scope=col>DMC</th><th scope=col>DC</th><th scope=col>ISI</th><th scope=col>BUI</th><th scope=col>FWI</th></tr>\n",
       "\t<tr><th scope=col>&lt;dbl&gt;</th><th scope=col>&lt;dbl&gt;</th><th scope=col>&lt;dbl&gt;</th><th scope=col>&lt;dbl&gt;</th><th scope=col>&lt;dbl&gt;</th><th scope=col>&lt;dbl&gt;</th><th scope=col>&lt;dbl&gt;</th><th scope=col>&lt;dbl&gt;</th><th scope=col>&lt;dbl&gt;</th><th scope=col>&lt;dbl&gt;</th></tr>\n",
       "</thead>\n",
       "<tbody>\n",
       "\t<tr><td>33</td><td>56</td><td>15</td><td>0</td><td>84.85</td><td>13.55</td><td>32</td><td>4.4</td><td>14.2</td><td>6</td></tr>\n",
       "</tbody>\n",
       "</table>\n"
      ],
      "text/latex": [
       "A tibble: 1 × 10\n",
       "\\begin{tabular}{llllllllll}\n",
       " Temperature & RH & Ws & Rain & FFMC & DMC & DC & ISI & BUI & FWI\\\\\n",
       " <dbl> & <dbl> & <dbl> & <dbl> & <dbl> & <dbl> & <dbl> & <dbl> & <dbl> & <dbl>\\\\\n",
       "\\hline\n",
       "\t 33 & 56 & 15 & 0 & 84.85 & 13.55 & 32 & 4.4 & 14.2 & 6\\\\\n",
       "\\end{tabular}\n"
      ],
      "text/markdown": [
       "\n",
       "A tibble: 1 × 10\n",
       "\n",
       "| Temperature &lt;dbl&gt; | RH &lt;dbl&gt; | Ws &lt;dbl&gt; | Rain &lt;dbl&gt; | FFMC &lt;dbl&gt; | DMC &lt;dbl&gt; | DC &lt;dbl&gt; | ISI &lt;dbl&gt; | BUI &lt;dbl&gt; | FWI &lt;dbl&gt; |\n",
       "|---|---|---|---|---|---|---|---|---|---|\n",
       "| 33 | 56 | 15 | 0 | 84.85 | 13.55 | 32 | 4.4 | 14.2 | 6 |\n",
       "\n"
      ],
      "text/plain": [
       "  Temperature RH Ws Rain FFMC  DMC   DC ISI BUI  FWI\n",
       "1 33          56 15 0    84.85 13.55 32 4.4 14.2 6  "
      ]
     },
     "metadata": {},
     "output_type": "display_data"
    },
    {
     "data": {
      "text/html": [
       "<table>\n",
       "<caption>A tibble: 1 × 10</caption>\n",
       "<thead>\n",
       "\t<tr><th scope=col>Temperature</th><th scope=col>RH</th><th scope=col>Ws</th><th scope=col>Rain</th><th scope=col>FFMC</th><th scope=col>DMC</th><th scope=col>DC</th><th scope=col>ISI</th><th scope=col>BUI</th><th scope=col>FWI</th></tr>\n",
       "\t<tr><th scope=col>&lt;dbl&gt;</th><th scope=col>&lt;dbl&gt;</th><th scope=col>&lt;dbl&gt;</th><th scope=col>&lt;dbl&gt;</th><th scope=col>&lt;dbl&gt;</th><th scope=col>&lt;dbl&gt;</th><th scope=col>&lt;dbl&gt;</th><th scope=col>&lt;dbl&gt;</th><th scope=col>&lt;dbl&gt;</th><th scope=col>&lt;dbl&gt;</th></tr>\n",
       "</thead>\n",
       "<tbody>\n",
       "\t<tr><td>32</td><td>63</td><td>15</td><td>0</td><td>83.1</td><td>11.8</td><td>34.5</td><td>3.3</td><td>13.1</td><td>4.2</td></tr>\n",
       "</tbody>\n",
       "</table>\n"
      ],
      "text/latex": [
       "A tibble: 1 × 10\n",
       "\\begin{tabular}{llllllllll}\n",
       " Temperature & RH & Ws & Rain & FFMC & DMC & DC & ISI & BUI & FWI\\\\\n",
       " <dbl> & <dbl> & <dbl> & <dbl> & <dbl> & <dbl> & <dbl> & <dbl> & <dbl> & <dbl>\\\\\n",
       "\\hline\n",
       "\t 32 & 63 & 15 & 0 & 83.1 & 11.8 & 34.5 & 3.3 & 13.1 & 4.2\\\\\n",
       "\\end{tabular}\n"
      ],
      "text/markdown": [
       "\n",
       "A tibble: 1 × 10\n",
       "\n",
       "| Temperature &lt;dbl&gt; | RH &lt;dbl&gt; | Ws &lt;dbl&gt; | Rain &lt;dbl&gt; | FFMC &lt;dbl&gt; | DMC &lt;dbl&gt; | DC &lt;dbl&gt; | ISI &lt;dbl&gt; | BUI &lt;dbl&gt; | FWI &lt;dbl&gt; |\n",
       "|---|---|---|---|---|---|---|---|---|---|\n",
       "| 32 | 63 | 15 | 0 | 83.1 | 11.8 | 34.5 | 3.3 | 13.1 | 4.2 |\n",
       "\n"
      ],
      "text/plain": [
       "  Temperature RH Ws Rain FFMC DMC  DC   ISI BUI  FWI\n",
       "1 32          63 15 0    83.1 11.8 34.5 3.3 13.1 4.2"
      ]
     },
     "metadata": {},
     "output_type": "display_data"
    },
    {
     "data": {
      "text/html": [
       "<table>\n",
       "<caption>A tibble: 1 × 10</caption>\n",
       "<thead>\n",
       "\t<tr><th scope=col>Temperature</th><th scope=col>RH</th><th scope=col>Ws</th><th scope=col>Rain</th><th scope=col>FFMC</th><th scope=col>DMC</th><th scope=col>DC</th><th scope=col>ISI</th><th scope=col>BUI</th><th scope=col>FWI</th></tr>\n",
       "\t<tr><th scope=col>&lt;dbl&gt;</th><th scope=col>&lt;dbl&gt;</th><th scope=col>&lt;dbl&gt;</th><th scope=col>&lt;dbl&gt;</th><th scope=col>&lt;dbl&gt;</th><th scope=col>&lt;dbl&gt;</th><th scope=col>&lt;dbl&gt;</th><th scope=col>&lt;dbl&gt;</th><th scope=col>&lt;dbl&gt;</th><th scope=col>&lt;dbl&gt;</th></tr>\n",
       "</thead>\n",
       "<tbody>\n",
       "\t<tr><td>33</td><td>64</td><td>15.5</td><td>0</td><td>86.65</td><td>15.8</td><td>71.65</td><td>5.65</td><td>20.4</td><td>8.6</td></tr>\n",
       "</tbody>\n",
       "</table>\n"
      ],
      "text/latex": [
       "A tibble: 1 × 10\n",
       "\\begin{tabular}{llllllllll}\n",
       " Temperature & RH & Ws & Rain & FFMC & DMC & DC & ISI & BUI & FWI\\\\\n",
       " <dbl> & <dbl> & <dbl> & <dbl> & <dbl> & <dbl> & <dbl> & <dbl> & <dbl> & <dbl>\\\\\n",
       "\\hline\n",
       "\t 33 & 64 & 15.5 & 0 & 86.65 & 15.8 & 71.65 & 5.65 & 20.4 & 8.6\\\\\n",
       "\\end{tabular}\n"
      ],
      "text/markdown": [
       "\n",
       "A tibble: 1 × 10\n",
       "\n",
       "| Temperature &lt;dbl&gt; | RH &lt;dbl&gt; | Ws &lt;dbl&gt; | Rain &lt;dbl&gt; | FFMC &lt;dbl&gt; | DMC &lt;dbl&gt; | DC &lt;dbl&gt; | ISI &lt;dbl&gt; | BUI &lt;dbl&gt; | FWI &lt;dbl&gt; |\n",
       "|---|---|---|---|---|---|---|---|---|---|\n",
       "| 33 | 64 | 15.5 | 0 | 86.65 | 15.8 | 71.65 | 5.65 | 20.4 | 8.6 |\n",
       "\n"
      ],
      "text/plain": [
       "  Temperature RH Ws   Rain FFMC  DMC  DC    ISI  BUI  FWI\n",
       "1 33          64 15.5 0    86.65 15.8 71.65 5.65 20.4 8.6"
      ]
     },
     "metadata": {},
     "output_type": "display_data"
    },
    {
     "data": {
      "text/html": [
       "<table>\n",
       "<caption>A tibble: 1 × 10</caption>\n",
       "<thead>\n",
       "\t<tr><th scope=col>Temperature</th><th scope=col>RH</th><th scope=col>Ws</th><th scope=col>Rain</th><th scope=col>FFMC</th><th scope=col>DMC</th><th scope=col>DC</th><th scope=col>ISI</th><th scope=col>BUI</th><th scope=col>FWI</th></tr>\n",
       "\t<tr><th scope=col>&lt;dbl&gt;</th><th scope=col>&lt;dbl&gt;</th><th scope=col>&lt;dbl&gt;</th><th scope=col>&lt;dbl&gt;</th><th scope=col>&lt;dbl&gt;</th><th scope=col>&lt;dbl&gt;</th><th scope=col>&lt;dbl&gt;</th><th scope=col>&lt;dbl&gt;</th><th scope=col>&lt;dbl&gt;</th><th scope=col>&lt;dbl&gt;</th></tr>\n",
       "</thead>\n",
       "<tbody>\n",
       "\t<tr><td>29</td><td>77</td><td>16</td><td>0.5</td><td>65.7</td><td>4.6</td><td>14.2</td><td>1.2</td><td>5.3</td><td>0.5</td></tr>\n",
       "</tbody>\n",
       "</table>\n"
      ],
      "text/latex": [
       "A tibble: 1 × 10\n",
       "\\begin{tabular}{llllllllll}\n",
       " Temperature & RH & Ws & Rain & FFMC & DMC & DC & ISI & BUI & FWI\\\\\n",
       " <dbl> & <dbl> & <dbl> & <dbl> & <dbl> & <dbl> & <dbl> & <dbl> & <dbl> & <dbl>\\\\\n",
       "\\hline\n",
       "\t 29 & 77 & 16 & 0.5 & 65.7 & 4.6 & 14.2 & 1.2 & 5.3 & 0.5\\\\\n",
       "\\end{tabular}\n"
      ],
      "text/markdown": [
       "\n",
       "A tibble: 1 × 10\n",
       "\n",
       "| Temperature &lt;dbl&gt; | RH &lt;dbl&gt; | Ws &lt;dbl&gt; | Rain &lt;dbl&gt; | FFMC &lt;dbl&gt; | DMC &lt;dbl&gt; | DC &lt;dbl&gt; | ISI &lt;dbl&gt; | BUI &lt;dbl&gt; | FWI &lt;dbl&gt; |\n",
       "|---|---|---|---|---|---|---|---|---|---|\n",
       "| 29 | 77 | 16 | 0.5 | 65.7 | 4.6 | 14.2 | 1.2 | 5.3 | 0.5 |\n",
       "\n"
      ],
      "text/plain": [
       "  Temperature RH Ws Rain FFMC DMC DC   ISI BUI FWI\n",
       "1 29          77 16 0.5  65.7 4.6 14.2 1.2 5.3 0.5"
      ]
     },
     "metadata": {},
     "output_type": "display_data"
    },
    {
     "data": {
      "text/html": [
       "<table>\n",
       "<caption>A tibble: 1 × 10</caption>\n",
       "<thead>\n",
       "\t<tr><th scope=col>Temperature</th><th scope=col>RH</th><th scope=col>Ws</th><th scope=col>Rain</th><th scope=col>FFMC</th><th scope=col>DMC</th><th scope=col>DC</th><th scope=col>ISI</th><th scope=col>BUI</th><th scope=col>FWI</th></tr>\n",
       "\t<tr><th scope=col>&lt;dbl&gt;</th><th scope=col>&lt;dbl&gt;</th><th scope=col>&lt;dbl&gt;</th><th scope=col>&lt;dbl&gt;</th><th scope=col>&lt;dbl&gt;</th><th scope=col>&lt;dbl&gt;</th><th scope=col>&lt;dbl&gt;</th><th scope=col>&lt;dbl&gt;</th><th scope=col>&lt;dbl&gt;</th><th scope=col>&lt;dbl&gt;</th></tr>\n",
       "</thead>\n",
       "<tbody>\n",
       "\t<tr><td>34</td><td>50</td><td>15</td><td>0</td><td>88.8</td><td>19.05</td><td>44.8</td><td>7.5</td><td>18.95</td><td>11.75</td></tr>\n",
       "</tbody>\n",
       "</table>\n"
      ],
      "text/latex": [
       "A tibble: 1 × 10\n",
       "\\begin{tabular}{llllllllll}\n",
       " Temperature & RH & Ws & Rain & FFMC & DMC & DC & ISI & BUI & FWI\\\\\n",
       " <dbl> & <dbl> & <dbl> & <dbl> & <dbl> & <dbl> & <dbl> & <dbl> & <dbl> & <dbl>\\\\\n",
       "\\hline\n",
       "\t 34 & 50 & 15 & 0 & 88.8 & 19.05 & 44.8 & 7.5 & 18.95 & 11.75\\\\\n",
       "\\end{tabular}\n"
      ],
      "text/markdown": [
       "\n",
       "A tibble: 1 × 10\n",
       "\n",
       "| Temperature &lt;dbl&gt; | RH &lt;dbl&gt; | Ws &lt;dbl&gt; | Rain &lt;dbl&gt; | FFMC &lt;dbl&gt; | DMC &lt;dbl&gt; | DC &lt;dbl&gt; | ISI &lt;dbl&gt; | BUI &lt;dbl&gt; | FWI &lt;dbl&gt; |\n",
       "|---|---|---|---|---|---|---|---|---|---|\n",
       "| 34 | 50 | 15 | 0 | 88.8 | 19.05 | 44.8 | 7.5 | 18.95 | 11.75 |\n",
       "\n"
      ],
      "text/plain": [
       "  Temperature RH Ws Rain FFMC DMC   DC   ISI BUI   FWI  \n",
       "1 34          50 15 0    88.8 19.05 44.8 7.5 18.95 11.75"
      ]
     },
     "metadata": {},
     "output_type": "display_data"
    },
    {
     "data": {
      "text/html": [
       "<table>\n",
       "<caption>A tibble: 1 × 10</caption>\n",
       "<thead>\n",
       "\t<tr><th scope=col>Temperature</th><th scope=col>RH</th><th scope=col>Ws</th><th scope=col>Rain</th><th scope=col>FFMC</th><th scope=col>DMC</th><th scope=col>DC</th><th scope=col>ISI</th><th scope=col>BUI</th><th scope=col>FWI</th></tr>\n",
       "\t<tr><th scope=col>&lt;dbl&gt;</th><th scope=col>&lt;dbl&gt;</th><th scope=col>&lt;dbl&gt;</th><th scope=col>&lt;dbl&gt;</th><th scope=col>&lt;dbl&gt;</th><th scope=col>&lt;dbl&gt;</th><th scope=col>&lt;dbl&gt;</th><th scope=col>&lt;dbl&gt;</th><th scope=col>&lt;dbl&gt;</th><th scope=col>&lt;dbl&gt;</th></tr>\n",
       "</thead>\n",
       "<tbody>\n",
       "\t<tr><td>30</td><td>63.5</td><td>15</td><td>0.6</td><td>70.95</td><td>6.2</td><td>9.3</td><td>1.4</td><td>6.15</td><td>0.7</td></tr>\n",
       "</tbody>\n",
       "</table>\n"
      ],
      "text/latex": [
       "A tibble: 1 × 10\n",
       "\\begin{tabular}{llllllllll}\n",
       " Temperature & RH & Ws & Rain & FFMC & DMC & DC & ISI & BUI & FWI\\\\\n",
       " <dbl> & <dbl> & <dbl> & <dbl> & <dbl> & <dbl> & <dbl> & <dbl> & <dbl> & <dbl>\\\\\n",
       "\\hline\n",
       "\t 30 & 63.5 & 15 & 0.6 & 70.95 & 6.2 & 9.3 & 1.4 & 6.15 & 0.7\\\\\n",
       "\\end{tabular}\n"
      ],
      "text/markdown": [
       "\n",
       "A tibble: 1 × 10\n",
       "\n",
       "| Temperature &lt;dbl&gt; | RH &lt;dbl&gt; | Ws &lt;dbl&gt; | Rain &lt;dbl&gt; | FFMC &lt;dbl&gt; | DMC &lt;dbl&gt; | DC &lt;dbl&gt; | ISI &lt;dbl&gt; | BUI &lt;dbl&gt; | FWI &lt;dbl&gt; |\n",
       "|---|---|---|---|---|---|---|---|---|---|\n",
       "| 30 | 63.5 | 15 | 0.6 | 70.95 | 6.2 | 9.3 | 1.4 | 6.15 | 0.7 |\n",
       "\n"
      ],
      "text/plain": [
       "  Temperature RH   Ws Rain FFMC  DMC DC  ISI BUI  FWI\n",
       "1 30          63.5 15 0.6  70.95 6.2 9.3 1.4 6.15 0.7"
      ]
     },
     "metadata": {},
     "output_type": "display_data"
    },
    {
     "data": {
      "text/html": [
       "<table>\n",
       "<caption>A tibble: 1 × 10</caption>\n",
       "<thead>\n",
       "\t<tr><th scope=col>Temperature</th><th scope=col>RH</th><th scope=col>Ws</th><th scope=col>Rain</th><th scope=col>FFMC</th><th scope=col>DMC</th><th scope=col>DC</th><th scope=col>ISI</th><th scope=col>BUI</th><th scope=col>FWI</th></tr>\n",
       "\t<tr><th scope=col>&lt;dbl&gt;</th><th scope=col>&lt;dbl&gt;</th><th scope=col>&lt;dbl&gt;</th><th scope=col>&lt;dbl&gt;</th><th scope=col>&lt;dbl&gt;</th><th scope=col>&lt;dbl&gt;</th><th scope=col>&lt;dbl&gt;</th><th scope=col>&lt;dbl&gt;</th><th scope=col>&lt;dbl&gt;</th><th scope=col>&lt;dbl&gt;</th></tr>\n",
       "</thead>\n",
       "<tbody>\n",
       "\t<tr><td>37</td><td>89</td><td>26</td><td>16.8</td><td>90.1</td><td>54.2</td><td>220.4</td><td>12.5</td><td>67.4</td><td>30.2</td></tr>\n",
       "</tbody>\n",
       "</table>\n"
      ],
      "text/latex": [
       "A tibble: 1 × 10\n",
       "\\begin{tabular}{llllllllll}\n",
       " Temperature & RH & Ws & Rain & FFMC & DMC & DC & ISI & BUI & FWI\\\\\n",
       " <dbl> & <dbl> & <dbl> & <dbl> & <dbl> & <dbl> & <dbl> & <dbl> & <dbl> & <dbl>\\\\\n",
       "\\hline\n",
       "\t 37 & 89 & 26 & 16.8 & 90.1 & 54.2 & 220.4 & 12.5 & 67.4 & 30.2\\\\\n",
       "\\end{tabular}\n"
      ],
      "text/markdown": [
       "\n",
       "A tibble: 1 × 10\n",
       "\n",
       "| Temperature &lt;dbl&gt; | RH &lt;dbl&gt; | Ws &lt;dbl&gt; | Rain &lt;dbl&gt; | FFMC &lt;dbl&gt; | DMC &lt;dbl&gt; | DC &lt;dbl&gt; | ISI &lt;dbl&gt; | BUI &lt;dbl&gt; | FWI &lt;dbl&gt; |\n",
       "|---|---|---|---|---|---|---|---|---|---|\n",
       "| 37 | 89 | 26 | 16.8 | 90.1 | 54.2 | 220.4 | 12.5 | 67.4 | 30.2 |\n",
       "\n"
      ],
      "text/plain": [
       "  Temperature RH Ws Rain FFMC DMC  DC    ISI  BUI  FWI \n",
       "1 37          89 26 16.8 90.1 54.2 220.4 12.5 67.4 30.2"
      ]
     },
     "metadata": {},
     "output_type": "display_data"
    },
    {
     "data": {
      "text/html": [
       "<table>\n",
       "<caption>A tibble: 1 × 10</caption>\n",
       "<thead>\n",
       "\t<tr><th scope=col>Temperature</th><th scope=col>RH</th><th scope=col>Ws</th><th scope=col>Rain</th><th scope=col>FFMC</th><th scope=col>DMC</th><th scope=col>DC</th><th scope=col>ISI</th><th scope=col>BUI</th><th scope=col>FWI</th></tr>\n",
       "\t<tr><th scope=col>&lt;dbl&gt;</th><th scope=col>&lt;dbl&gt;</th><th scope=col>&lt;dbl&gt;</th><th scope=col>&lt;dbl&gt;</th><th scope=col>&lt;dbl&gt;</th><th scope=col>&lt;dbl&gt;</th><th scope=col>&lt;dbl&gt;</th><th scope=col>&lt;dbl&gt;</th><th scope=col>&lt;dbl&gt;</th><th scope=col>&lt;dbl&gt;</th></tr>\n",
       "</thead>\n",
       "<tbody>\n",
       "\t<tr><td>42</td><td>88</td><td>29</td><td>4.7</td><td>96</td><td>56.3</td><td>168.2</td><td>19</td><td>59.5</td><td>31.1</td></tr>\n",
       "</tbody>\n",
       "</table>\n"
      ],
      "text/latex": [
       "A tibble: 1 × 10\n",
       "\\begin{tabular}{llllllllll}\n",
       " Temperature & RH & Ws & Rain & FFMC & DMC & DC & ISI & BUI & FWI\\\\\n",
       " <dbl> & <dbl> & <dbl> & <dbl> & <dbl> & <dbl> & <dbl> & <dbl> & <dbl> & <dbl>\\\\\n",
       "\\hline\n",
       "\t 42 & 88 & 29 & 4.7 & 96 & 56.3 & 168.2 & 19 & 59.5 & 31.1\\\\\n",
       "\\end{tabular}\n"
      ],
      "text/markdown": [
       "\n",
       "A tibble: 1 × 10\n",
       "\n",
       "| Temperature &lt;dbl&gt; | RH &lt;dbl&gt; | Ws &lt;dbl&gt; | Rain &lt;dbl&gt; | FFMC &lt;dbl&gt; | DMC &lt;dbl&gt; | DC &lt;dbl&gt; | ISI &lt;dbl&gt; | BUI &lt;dbl&gt; | FWI &lt;dbl&gt; |\n",
       "|---|---|---|---|---|---|---|---|---|---|\n",
       "| 42 | 88 | 29 | 4.7 | 96 | 56.3 | 168.2 | 19 | 59.5 | 31.1 |\n",
       "\n"
      ],
      "text/plain": [
       "  Temperature RH Ws Rain FFMC DMC  DC    ISI BUI  FWI \n",
       "1 42          88 29 4.7  96   56.3 168.2 19  59.5 31.1"
      ]
     },
     "metadata": {},
     "output_type": "display_data"
    },
    {
     "data": {
      "text/html": [
       "<table>\n",
       "<caption>A tibble: 1 × 10</caption>\n",
       "<thead>\n",
       "\t<tr><th scope=col>Temperature</th><th scope=col>RH</th><th scope=col>Ws</th><th scope=col>Rain</th><th scope=col>FFMC</th><th scope=col>DMC</th><th scope=col>DC</th><th scope=col>ISI</th><th scope=col>BUI</th><th scope=col>FWI</th></tr>\n",
       "\t<tr><th scope=col>&lt;dbl&gt;</th><th scope=col>&lt;dbl&gt;</th><th scope=col>&lt;dbl&gt;</th><th scope=col>&lt;dbl&gt;</th><th scope=col>&lt;dbl&gt;</th><th scope=col>&lt;dbl&gt;</th><th scope=col>&lt;dbl&gt;</th><th scope=col>&lt;dbl&gt;</th><th scope=col>&lt;dbl&gt;</th><th scope=col>&lt;dbl&gt;</th></tr>\n",
       "</thead>\n",
       "<tbody>\n",
       "\t<tr><td>22</td><td>45</td><td>11</td><td>0</td><td>28.6</td><td>0.7</td><td>6.9</td><td>0</td><td>1.1</td><td>0</td></tr>\n",
       "</tbody>\n",
       "</table>\n"
      ],
      "text/latex": [
       "A tibble: 1 × 10\n",
       "\\begin{tabular}{llllllllll}\n",
       " Temperature & RH & Ws & Rain & FFMC & DMC & DC & ISI & BUI & FWI\\\\\n",
       " <dbl> & <dbl> & <dbl> & <dbl> & <dbl> & <dbl> & <dbl> & <dbl> & <dbl> & <dbl>\\\\\n",
       "\\hline\n",
       "\t 22 & 45 & 11 & 0 & 28.6 & 0.7 & 6.9 & 0 & 1.1 & 0\\\\\n",
       "\\end{tabular}\n"
      ],
      "text/markdown": [
       "\n",
       "A tibble: 1 × 10\n",
       "\n",
       "| Temperature &lt;dbl&gt; | RH &lt;dbl&gt; | Ws &lt;dbl&gt; | Rain &lt;dbl&gt; | FFMC &lt;dbl&gt; | DMC &lt;dbl&gt; | DC &lt;dbl&gt; | ISI &lt;dbl&gt; | BUI &lt;dbl&gt; | FWI &lt;dbl&gt; |\n",
       "|---|---|---|---|---|---|---|---|---|---|\n",
       "| 22 | 45 | 11 | 0 | 28.6 | 0.7 | 6.9 | 0 | 1.1 | 0 |\n",
       "\n"
      ],
      "text/plain": [
       "  Temperature RH Ws Rain FFMC DMC DC  ISI BUI FWI\n",
       "1 22          45 11 0    28.6 0.7 6.9 0   1.1 0  "
      ]
     },
     "metadata": {},
     "output_type": "display_data"
    },
    {
     "data": {
      "text/html": [
       "<table>\n",
       "<caption>A tibble: 1 × 10</caption>\n",
       "<thead>\n",
       "\t<tr><th scope=col>Temperature</th><th scope=col>RH</th><th scope=col>Ws</th><th scope=col>Rain</th><th scope=col>FFMC</th><th scope=col>DMC</th><th scope=col>DC</th><th scope=col>ISI</th><th scope=col>BUI</th><th scope=col>FWI</th></tr>\n",
       "\t<tr><th scope=col>&lt;dbl&gt;</th><th scope=col>&lt;dbl&gt;</th><th scope=col>&lt;dbl&gt;</th><th scope=col>&lt;dbl&gt;</th><th scope=col>&lt;dbl&gt;</th><th scope=col>&lt;dbl&gt;</th><th scope=col>&lt;dbl&gt;</th><th scope=col>&lt;dbl&gt;</th><th scope=col>&lt;dbl&gt;</th><th scope=col>&lt;dbl&gt;</th></tr>\n",
       "</thead>\n",
       "<tbody>\n",
       "\t<tr><td>42</td><td>88</td><td>29</td><td>4.7</td><td>96</td><td>56.3</td><td>168.2</td><td>19</td><td>59.5</td><td>31.1</td></tr>\n",
       "</tbody>\n",
       "</table>\n"
      ],
      "text/latex": [
       "A tibble: 1 × 10\n",
       "\\begin{tabular}{llllllllll}\n",
       " Temperature & RH & Ws & Rain & FFMC & DMC & DC & ISI & BUI & FWI\\\\\n",
       " <dbl> & <dbl> & <dbl> & <dbl> & <dbl> & <dbl> & <dbl> & <dbl> & <dbl> & <dbl>\\\\\n",
       "\\hline\n",
       "\t 42 & 88 & 29 & 4.7 & 96 & 56.3 & 168.2 & 19 & 59.5 & 31.1\\\\\n",
       "\\end{tabular}\n"
      ],
      "text/markdown": [
       "\n",
       "A tibble: 1 × 10\n",
       "\n",
       "| Temperature &lt;dbl&gt; | RH &lt;dbl&gt; | Ws &lt;dbl&gt; | Rain &lt;dbl&gt; | FFMC &lt;dbl&gt; | DMC &lt;dbl&gt; | DC &lt;dbl&gt; | ISI &lt;dbl&gt; | BUI &lt;dbl&gt; | FWI &lt;dbl&gt; |\n",
       "|---|---|---|---|---|---|---|---|---|---|\n",
       "| 42 | 88 | 29 | 4.7 | 96 | 56.3 | 168.2 | 19 | 59.5 | 31.1 |\n",
       "\n"
      ],
      "text/plain": [
       "  Temperature RH Ws Rain FFMC DMC  DC    ISI BUI  FWI \n",
       "1 42          88 29 4.7  96   56.3 168.2 19  59.5 31.1"
      ]
     },
     "metadata": {},
     "output_type": "display_data"
    }
   ],
   "source": [
    "## Explore means of numeric, non-date columns for both regions\n",
    "\n",
    "bejaia_means <- forest_fire_train %>%\n",
    "    filter(Region == \"Bejaia\") %>%\n",
    "    select(-day, -month, -year, -Classes, -Region, -date) %>%\n",
    "    map_df(mean)\n",
    "\n",
    "bejaia_means\n",
    "\n",
    "sidi_bel_abbes_means <- forest_fire_train %>%\n",
    "    filter(Region == \"Sidi Bel Abbes\") %>%\n",
    "    select(-day, -month, -year, -Classes, -Region, -date) %>%\n",
    "    map_df(mean)\n",
    "\n",
    "sidi_bel_abbes_means\n",
    "\n",
    "all_data_means <- forest_fire_train %>%\n",
    "    select(-day, -month, -year, -Classes, -Region, -date) %>%\n",
    "    map_df(mean)\n",
    "\n",
    "all_data_means\n",
    "\n",
    "## Explore means of numeric, non-date columns for both regions during fire and non fire periods\n",
    "\n",
    "bejaia_fire_means <- forest_fire_train %>%\n",
    "    filter(Region == \"Bejaia\", Classes == \"fire\") %>%\n",
    "    select(-day, -month, -year, -Classes, -Region, -date) %>%\n",
    "    map_df(mean)\n",
    "\n",
    "bejaia_fire_means\n",
    "\n",
    "bejaia_not_fire_means <- forest_fire_train %>%\n",
    "    filter(Region == \"Bejaia\", Classes == \"not fire\") %>%\n",
    "    select(-day, -month, -year, -Classes, -Region, -date) %>%\n",
    "    map_df(mean)\n",
    "\n",
    "bejaia_not_fire_means\n",
    "\n",
    "sidi_bel_abbes_fire_means <- forest_fire_train %>%\n",
    "    filter(Region == \"Sidi Bel Abbes\", Classes == \"fire\") %>%\n",
    "    select(-day, -month, -year, -Classes, -Region, -date) %>%\n",
    "    map_df(mean)\n",
    "\n",
    "sidi_bel_abbes_fire_means\n",
    "\n",
    "sidi_bel_abbes_not_fire_means <- forest_fire_train %>%\n",
    "    filter(Region == \"Sidi Bel Abbes\", Classes == \"not fire\") %>%\n",
    "    select(-day, -month, -year, -Classes, -Region, -date) %>%\n",
    "    map_df(mean)\n",
    "\n",
    "sidi_bel_abbes_not_fire_means\n",
    "\n",
    "## Explore medians of numeric, non-date columns for both regions\n",
    "\n",
    "bejaia_medians <- forest_fire_train %>%\n",
    "    filter(Region == \"Bejaia\") %>%\n",
    "    select(-day, -month, -year, -Classes, -Region, -date) %>%\n",
    "    map_df(median)\n",
    "\n",
    "bejaia_medians\n",
    "\n",
    "sidi_bel_abbes_medians <- forest_fire_train %>%\n",
    "    filter(Region == \"Sidi Bel Abbes\") %>%\n",
    "    select(-day, -month, -year, -Classes, -Region, -date) %>%\n",
    "    map_df(median)\n",
    "\n",
    "sidi_bel_abbes_medians\n",
    "\n",
    "all_data_medians <- forest_fire_train %>%\n",
    "    select(-day, -month, -year, -Classes, -Region, -date) %>%\n",
    "    map_df(median)\n",
    "\n",
    "all_data_medians\n",
    "\n",
    "## Explore medians of numeric, non-date columns during wildfire and non-wildfire periods\n",
    "\n",
    "bejaia_fire_medians <- forest_fire_train %>%\n",
    "    filter(Region == \"Bejaia\", Classes == \"fire\") %>%\n",
    "    select(-day, -month, -year, -Classes, -Region, -date) %>%\n",
    "    map_df(median)\n",
    "\n",
    "bejaia_fire_medians\n",
    "\n",
    "bejaia_not_fire_medians <- forest_fire_train %>%\n",
    "    filter(Region == \"Bejaia\", Classes == \"not fire\") %>%\n",
    "    select(-day, -month, -year, -Classes, -Region, -date) %>%\n",
    "    map_df(median)\n",
    "\n",
    "bejaia_not_fire_medians\n",
    "\n",
    "sidi_bel_abbes_fire_medians <- forest_fire_train %>%\n",
    "    filter(Region == \"Sidi Bel Abbes\", Classes == \"fire\") %>%\n",
    "    select(-day, -month, -year, -Classes, -Region, -date) %>%\n",
    "    map_df(median)\n",
    "\n",
    "sidi_bel_abbes_fire_medians\n",
    "\n",
    "sidi_bel_abbes_not_fire_medians <- forest_fire_train %>%\n",
    "    filter(Region == \"Sidi Bel Abbes\", Classes == \"not fire\") %>%\n",
    "    select(-day, -month, -year, -Classes, -Region, -date) %>%\n",
    "    map_df(median)\n",
    "\n",
    "sidi_bel_abbes_not_fire_medians\n",
    "\n",
    "## Explore max values of numeric, non-date columns for both regions\n",
    "\n",
    "bejaia_max <- forest_fire_train %>%\n",
    "    filter(Region == \"Bejaia\") %>%\n",
    "    select(-day, -month, -year, -Classes, -Region, -date) %>%\n",
    "    map_df(max)\n",
    "\n",
    "bejaia_max\n",
    "\n",
    "sidi_bel_abbes_max <- forest_fire_train %>%\n",
    "    filter(Region == \"Sidi Bel Abbes\") %>%\n",
    "    select(-day, -month, -year, -Classes, -Region, -date) %>%\n",
    "    map_df(max)\n",
    "\n",
    "sidi_bel_abbes_max\n",
    "\n",
    "## Explore maximum values of numeric, non-date columns during fire and non-fire periods\n",
    "\n",
    "bejaia_fire_max <- forest_fire_train %>%\n",
    "    filter(Region == \"Bejaia\", Classes == \"fire\") %>%\n",
    "    select(-day, -month, -year, -Classes, -Region, -date) %>%\n",
    "    map_df(max)\n",
    "\n",
    "b\n",
    "\n",
    "bejaia_not_fire_max <- forest_fire_train %>%\n",
    "    filter(Region == \"Bejaia\", Classes == \"not fire\") %>%\n",
    "    select(-day, -month, -year, -Classes, -Region, -date) %>%\n",
    "    map_df(max)\n",
    "\n",
    "sidi_bel_abbes_fire_max <- forest_fire_train %>%\n",
    "    filter(Region == \"Sidi Bel Abbes\", Classes == \"fire\") %>%\n",
    "    select(-day, -month, -year, -Classes, -Region, -date) %>%\n",
    "    map_df(max)\n",
    "\n",
    "sidi_bel_abbes_not_fire_max <- forest_fire_train %>%\n",
    "    filter(Region == \"Sidi Bel Abbes\", Classes == \"not fire\") %>%\n",
    "    select(-day, -month, -year, -Classes, -Region, -date) %>%\n",
    "    map_df(max)\n",
    "\n",
    "## Explore minimum values of numeric, non-date columns for both regions\n",
    "\n",
    "bejaia_min <- forest_fire_train %>%\n",
    "    filter(Region == \"Bejaia\") %>%\n",
    "    select(-day, -month, -year, -Classes, -Region, -date) %>%\n",
    "    map_df(min)\n",
    "\n",
    "bejaia_min\n",
    "\n",
    "sidi_bel_abbes_min <- forest_fire_train %>%\n",
    "    filter(Region == \"Sidi Bel Abbes\") %>%\n",
    "    select(-day, -month, -year, -Classes, -Region, -date) %>%\n",
    "    map_df(max)\n",
    "\n",
    "sidi_bel_abbes_min\n",
    "\n",
    "## Explore minimum values of numeric, non-date columns during fire and non-fire periods\n",
    "\n",
    "bejaia_fire_min <- forest_fire_train %>%\n",
    "    filter(Region == \"Bejaia\", Classes == \"fire\") %>%\n",
    "    select(-day, -month, -year, -Classes, -Region, -date) %>%\n",
    "    map_df(min)\n",
    "\n",
    "bejaia_not_fire_min <- forest_fire_train %>%\n",
    "    filter(Region == \"Bejaia\", Classes == \"not fire\") %>%\n",
    "    select(-day, -month, -year, -Classes, -Region, -date) %>%\n",
    "    map_df(min)\n",
    "\n",
    "sidi_bel_abbes_fire_min <- forest_fire_train %>%\n",
    "    filter(Region == \"Sidi Bel Abbes\", Classes == \"fire\") %>%\n",
    "    select(-day, -month, -year, -Classes, -Region, -date) %>%\n",
    "    map_df(min)\n",
    "\n",
    "sidi_bel_abbes_not_fire_min <- forest_fire_train %>%\n",
    "    filter(Region == \"Sidi Bel Abbes\", Classes == \"not fire\") %>%\n",
    "    select(-day, -month, -year, -Classes, -Region, -date) %>%\n",
    "    map_df(min)"
   ]
  },
  {
   "cell_type": "code",
   "execution_count": 43,
   "metadata": {},
   "outputs": [
    {
     "data": {
      "image/png": "[encoded data removed]",
      "text/plain": [
       "plot without title"
      ]
     },
     "metadata": {
      "image/png": {
       "height": 360,
       "width": 480
      }
     },
     "output_type": "display_data"
    }
   ],
   "source": [
    "## Visualize how Fire Weather Index changes between Jun-Oct 2012 for both regions\n",
    "\n",
    "options(repr.plot.width = 8, repr.plot.height = 6)\n",
    "fwi_over_time <- forest_fire_train %>%\n",
    "    ggplot(aes(x = date, y = FWI)) +\n",
    "        geom_line() +\n",
    "        facet_grid(Region ~ .) +\n",
    "        labs(x = \"Date\", y = \"Fire Weather Index (FWI)\", title = \"FWI over time in Bejaia vs Sidi Bel Abbes, Algeria\") +\n",
    "        theme(text = element_text(size = 20))\n",
    "\n",
    "fwi_over_time"
   ]
  },
  {
   "cell_type": "code",
   "execution_count": null,
   "metadata": {},
   "outputs": [],
   "source": []
  }
 ],
 "metadata": {
  "kernelspec": {
   "display_name": "R",
   "language": "R",
   "name": "ir"
  },
  "language_info": {
   "codemirror_mode": "r",
   "file_extension": ".r",
   "mimetype": "text/x-r-source",
   "name": "R",
   "pygments_lexer": "r",
   "version": "4.0.0"
  }
 },
 "nbformat": 4,
 "nbformat_minor": 4
}
