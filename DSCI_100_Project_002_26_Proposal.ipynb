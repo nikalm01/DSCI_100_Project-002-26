{
 "cells": [
  {
   "cell_type": "markdown",
   "metadata": {},
   "source": [
    "# Forest Fire Incidence in Northern Algeria: Proposal"
   ]
  },
  {
   "cell_type": "code",
   "execution_count": 3,
   "metadata": {},
   "outputs": [
    {
     "name": "stderr",
     "output_type": "stream",
     "text": [
      "── \u001b[1mAttaching packages\u001b[22m ─────────────────────────────────────── tidyverse 1.3.0 ──\n",
      "\n",
      "\u001b[32m✔\u001b[39m \u001b[34mggplot2\u001b[39m 3.3.2     \u001b[32m✔\u001b[39m \u001b[34mpurrr  \u001b[39m 0.3.4\n",
      "\u001b[32m✔\u001b[39m \u001b[34mtibble \u001b[39m 3.0.3     \u001b[32m✔\u001b[39m \u001b[34mdplyr  \u001b[39m 1.0.2\n",
      "\u001b[32m✔\u001b[39m \u001b[34mtidyr  \u001b[39m 1.1.2     \u001b[32m✔\u001b[39m \u001b[34mstringr\u001b[39m 1.4.0\n",
      "\u001b[32m✔\u001b[39m \u001b[34mreadr  \u001b[39m 1.3.1     \u001b[32m✔\u001b[39m \u001b[34mforcats\u001b[39m 0.5.0\n",
      "\n",
      "Warning message:\n",
      "“package ‘ggplot2’ was built under R version 4.0.1”\n",
      "Warning message:\n",
      "“package ‘tibble’ was built under R version 4.0.2”\n",
      "Warning message:\n",
      "“package ‘tidyr’ was built under R version 4.0.2”\n",
      "Warning message:\n",
      "“package ‘dplyr’ was built under R version 4.0.2”\n",
      "── \u001b[1mConflicts\u001b[22m ────────────────────────────────────────── tidyverse_conflicts() ──\n",
      "\u001b[31m✖\u001b[39m \u001b[34mdplyr\u001b[39m::\u001b[32mfilter()\u001b[39m masks \u001b[34mstats\u001b[39m::filter()\n",
      "\u001b[31m✖\u001b[39m \u001b[34mdplyr\u001b[39m::\u001b[32mlag()\u001b[39m    masks \u001b[34mstats\u001b[39m::lag()\n",
      "\n",
      "Warning message:\n",
      "“package ‘tidymodels’ was built under R version 4.0.2”\n",
      "── \u001b[1mAttaching packages\u001b[22m ────────────────────────────────────── tidymodels 0.1.1 ──\n",
      "\n",
      "\u001b[32m✔\u001b[39m \u001b[34mbroom    \u001b[39m 0.7.0      \u001b[32m✔\u001b[39m \u001b[34mrecipes  \u001b[39m 0.1.13\n",
      "\u001b[32m✔\u001b[39m \u001b[34mdials    \u001b[39m 0.0.9      \u001b[32m✔\u001b[39m \u001b[34mrsample  \u001b[39m 0.0.7 \n",
      "\u001b[32m✔\u001b[39m \u001b[34minfer    \u001b[39m 0.5.4      \u001b[32m✔\u001b[39m \u001b[34mtune     \u001b[39m 0.1.1 \n",
      "\u001b[32m✔\u001b[39m \u001b[34mmodeldata\u001b[39m 0.0.2      \u001b[32m✔\u001b[39m \u001b[34mworkflows\u001b[39m 0.2.0 \n",
      "\u001b[32m✔\u001b[39m \u001b[34mparsnip  \u001b[39m 0.1.3      \u001b[32m✔\u001b[39m \u001b[34myardstick\u001b[39m 0.0.7 \n",
      "\n",
      "Warning message:\n",
      "“package ‘broom’ was built under R version 4.0.2”\n",
      "Warning message:\n",
      "“package ‘dials’ was built under R version 4.0.2”\n",
      "Warning message:\n",
      "“package ‘infer’ was built under R version 4.0.3”\n",
      "Warning message:\n",
      "“package ‘modeldata’ was built under R version 4.0.1”\n",
      "Warning message:\n",
      "“package ‘parsnip’ was built under R version 4.0.2”\n",
      "Warning message:\n",
      "“package ‘recipes’ was built under R version 4.0.1”\n",
      "Warning message:\n",
      "“package ‘tune’ was built under R version 4.0.2”\n",
      "Warning message:\n",
      "“package ‘workflows’ was built under R version 4.0.2”\n",
      "Warning message:\n",
      "“package ‘yardstick’ was built under R version 4.0.2”\n",
      "── \u001b[1mConflicts\u001b[22m ───────────────────────────────────────── tidymodels_conflicts() ──\n",
      "\u001b[31m✖\u001b[39m \u001b[34mscales\u001b[39m::\u001b[32mdiscard()\u001b[39m masks \u001b[34mpurrr\u001b[39m::discard()\n",
      "\u001b[31m✖\u001b[39m \u001b[34mdplyr\u001b[39m::\u001b[32mfilter()\u001b[39m   masks \u001b[34mstats\u001b[39m::filter()\n",
      "\u001b[31m✖\u001b[39m \u001b[34mrecipes\u001b[39m::\u001b[32mfixed()\u001b[39m  masks \u001b[34mstringr\u001b[39m::fixed()\n",
      "\u001b[31m✖\u001b[39m \u001b[34mdplyr\u001b[39m::\u001b[32mlag()\u001b[39m      masks \u001b[34mstats\u001b[39m::lag()\n",
      "\u001b[31m✖\u001b[39m \u001b[34myardstick\u001b[39m::\u001b[32mspec()\u001b[39m masks \u001b[34mreadr\u001b[39m::spec()\n",
      "\u001b[31m✖\u001b[39m \u001b[34mrecipes\u001b[39m::\u001b[32mstep()\u001b[39m   masks \u001b[34mstats\u001b[39m::step()\n",
      "\n"
     ]
    }
   ],
   "source": [
    "library(tidyverse)\n",
    "library(tidymodels)\n",
    "options(repr.matrix.max.rows = 8)"
   ]
  },
  {
   "cell_type": "code",
   "execution_count": 4,
   "metadata": {},
   "outputs": [],
   "source": [
    "set.seed(38)"
   ]
  },
  {
   "cell_type": "markdown",
   "metadata": {},
   "source": [
    "## Introduction"
   ]
  },
  {
   "cell_type": "markdown",
   "metadata": {},
   "source": [
    "Northern Algeria has high wildfire activity, experiencing 32 204 forest fires between 2001 and 2019 (Curt et. al., 2020). \n",
    "\n",
    "Daily temperature, relative humidity, rainfall, wind speed, and Fire Weather Index (FWI) data were collected in the Bejaia and Sidi Bel Abbes regions of Northern Algeria from June to September in 2012. FWI is divided into two categories (De Groot, 1987). Fuel moisture codes (FFMC, DMC, and DC) represent ratings of moisture for specific fuel depths. Fire behaviour indices include Initial Spread Index (ISI), expected rate of fire spread, Buildup Index (BUI), amount of fuel available, and Fire Weather Index, expected fire intensity.\n",
    "\n",
    "Our goal is to answer: Can we predict whether a region in Northern Algeria will experience a forest fire based upon bioclimatic conditions?\n"
   ]
  },
  {
   "cell_type": "markdown",
   "metadata": {},
   "source": [
    "## Preliminary Exploratory Data Analysis"
   ]
  },
  {
   "cell_type": "code",
   "execution_count": 5,
   "metadata": {},
   "outputs": [
    {
     "name": "stderr",
     "output_type": "stream",
     "text": [
      "Parsed with column specification:\n",
      "cols(\n",
      "  day = \u001b[31mcol_character()\u001b[39m,\n",
      "  month = \u001b[31mcol_character()\u001b[39m,\n",
      "  year = \u001b[32mcol_double()\u001b[39m,\n",
      "  Temperature = \u001b[32mcol_double()\u001b[39m,\n",
      "  RH = \u001b[32mcol_double()\u001b[39m,\n",
      "  Ws = \u001b[32mcol_double()\u001b[39m,\n",
      "  Rain = \u001b[32mcol_double()\u001b[39m,\n",
      "  FFMC = \u001b[32mcol_double()\u001b[39m,\n",
      "  DMC = \u001b[32mcol_double()\u001b[39m,\n",
      "  DC = \u001b[32mcol_double()\u001b[39m,\n",
      "  ISI = \u001b[32mcol_double()\u001b[39m,\n",
      "  BUI = \u001b[32mcol_double()\u001b[39m,\n",
      "  FWI = \u001b[32mcol_double()\u001b[39m,\n",
      "  Classes = \u001b[31mcol_character()\u001b[39m\n",
      ")\n",
      "\n",
      "Parsed with column specification:\n",
      "cols(\n",
      "  day = \u001b[31mcol_character()\u001b[39m,\n",
      "  month = \u001b[31mcol_character()\u001b[39m,\n",
      "  year = \u001b[32mcol_double()\u001b[39m,\n",
      "  Temperature = \u001b[32mcol_double()\u001b[39m,\n",
      "  RH = \u001b[32mcol_double()\u001b[39m,\n",
      "  Ws = \u001b[32mcol_double()\u001b[39m,\n",
      "  Rain = \u001b[32mcol_double()\u001b[39m,\n",
      "  FFMC = \u001b[32mcol_double()\u001b[39m,\n",
      "  DMC = \u001b[32mcol_double()\u001b[39m,\n",
      "  DC = \u001b[31mcol_character()\u001b[39m,\n",
      "  ISI = \u001b[32mcol_double()\u001b[39m,\n",
      "  BUI = \u001b[32mcol_double()\u001b[39m,\n",
      "  FWI = \u001b[31mcol_character()\u001b[39m,\n",
      "  Classes = \u001b[31mcol_character()\u001b[39m\n",
      ")\n",
      "\n",
      "Warning message:\n",
      "“1 parsing failure.\n",
      "row col   expected     actual                                                                                                       file\n",
      " 44  -- 14 columns 13 columns 'https://archive.ics.uci.edu/ml/machine-learning-databases/00547/Algerian_forest_fires_dataset_UPDATE.csv'\n",
      "”\n"
     ]
    }
   ],
   "source": [
    "## Load datasets from URL\n",
    "\n",
    "algerian_forest_fire_Bejaia <- read_csv(\"https://archive.ics.uci.edu/ml/machine-learning-databases/00547/Algerian_forest_fires_dataset_UPDATE.csv\", \n",
    "                                 skip = 1, n_max = 122) %>%\n",
    "    mutate(Region = \"Bejaia\")\n",
    "\n",
    "algerian_forest_fire_Sidi_Bel_Abbes <- read_csv(\"https://archive.ics.uci.edu/ml/machine-learning-databases/00547/Algerian_forest_fires_dataset_UPDATE.csv\",\n",
    "                                               skip = 126) %>%\n",
    "    mutate(Region = \"Sidi Bel Abbes\")\n",
    "\n",
    "## Merge datasets of the two regions\n",
    "\n",
    "algeria_forest_fire_all_data <- rbind(algerian_forest_fire_Bejaia, algerian_forest_fire_Sidi_Bel_Abbes) %>%\n",
    "    mutate(Classes = as_factor(Classes)) %>%\n",
    "    mutate(Region = as_factor(Region))"
   ]
  },
  {
   "cell_type": "code",
   "execution_count": 6,
   "metadata": {},
   "outputs": [],
   "source": [
    "## Manually set values of incorrect column, convert DC and FWI to numeric type\n",
    "\n",
    "algeria_forest_fire_all_data[166, 10] <- '14.6'\n",
    "algeria_forest_fire_all_data[166, 11] <- 9\n",
    "algeria_forest_fire_all_data[166, 12] <- 12.5\n",
    "algeria_forest_fire_all_data[166, 13] <- '10.4'\n",
    "algeria_forest_fire_all_data[166, 14] <- \"fire\" \n",
    "\n",
    "algeria_forest_fire_all_data <- algeria_forest_fire_all_data %>%\n",
    "    mutate(DC = as.numeric(DC)) %>%\n",
    "    mutate(FWI = as.numeric(FWI))\n",
    "\n",
    "# ## Create date column\n",
    "# algeria_forest_fire_all_data <- algeria_forest_fire_all_data %>%\n",
    "#     mutate(date = as.Date(paste(year, month, day, sep='-')))"
   ]
  },
  {
   "cell_type": "code",
   "execution_count": 7,
   "metadata": {},
   "outputs": [
    {
     "data": {
      "text/html": [
       "<table>\n",
       "<caption>A tibble: 159 × 5</caption>\n",
       "<thead>\n",
       "\t<tr><th scope=col>Temperature</th><th scope=col>RH</th><th scope=col>Rain</th><th scope=col>FFMC</th><th scope=col>Classes</th></tr>\n",
       "\t<tr><th scope=col>&lt;dbl&gt;</th><th scope=col>&lt;dbl&gt;</th><th scope=col>&lt;dbl&gt;</th><th scope=col>&lt;dbl&gt;</th><th scope=col>&lt;fct&gt;</th></tr>\n",
       "</thead>\n",
       "<tbody>\n",
       "\t<tr><td>29</td><td>57</td><td> 0.0</td><td>65.7</td><td>not fire</td></tr>\n",
       "\t<tr><td>29</td><td>61</td><td> 1.3</td><td>64.4</td><td>not fire</td></tr>\n",
       "\t<tr><td>26</td><td>82</td><td>13.1</td><td>47.1</td><td>not fire</td></tr>\n",
       "\t<tr><td>25</td><td>89</td><td> 2.5</td><td>28.6</td><td>not fire</td></tr>\n",
       "\t<tr><td>⋮</td><td>⋮</td><td>⋮</td><td>⋮</td><td>⋮</td></tr>\n",
       "\t<tr><td>30</td><td>65</td><td>0.0</td><td>85.4</td><td>fire    </td></tr>\n",
       "\t<tr><td>28</td><td>87</td><td>4.4</td><td>41.1</td><td>not fire</td></tr>\n",
       "\t<tr><td>27</td><td>87</td><td>0.5</td><td>45.9</td><td>not fire</td></tr>\n",
       "\t<tr><td>24</td><td>54</td><td>0.1</td><td>79.7</td><td>not fire</td></tr>\n",
       "</tbody>\n",
       "</table>\n"
      ],
      "text/latex": [
       "A tibble: 159 × 5\n",
       "\\begin{tabular}{lllll}\n",
       " Temperature & RH & Rain & FFMC & Classes\\\\\n",
       " <dbl> & <dbl> & <dbl> & <dbl> & <fct>\\\\\n",
       "\\hline\n",
       "\t 29 & 57 &  0.0 & 65.7 & not fire\\\\\n",
       "\t 29 & 61 &  1.3 & 64.4 & not fire\\\\\n",
       "\t 26 & 82 & 13.1 & 47.1 & not fire\\\\\n",
       "\t 25 & 89 &  2.5 & 28.6 & not fire\\\\\n",
       "\t ⋮ & ⋮ & ⋮ & ⋮ & ⋮\\\\\n",
       "\t 30 & 65 & 0.0 & 85.4 & fire    \\\\\n",
       "\t 28 & 87 & 4.4 & 41.1 & not fire\\\\\n",
       "\t 27 & 87 & 0.5 & 45.9 & not fire\\\\\n",
       "\t 24 & 54 & 0.1 & 79.7 & not fire\\\\\n",
       "\\end{tabular}\n"
      ],
      "text/markdown": [
       "\n",
       "A tibble: 159 × 5\n",
       "\n",
       "| Temperature &lt;dbl&gt; | RH &lt;dbl&gt; | Rain &lt;dbl&gt; | FFMC &lt;dbl&gt; | Classes &lt;fct&gt; |\n",
       "|---|---|---|---|---|\n",
       "| 29 | 57 |  0.0 | 65.7 | not fire |\n",
       "| 29 | 61 |  1.3 | 64.4 | not fire |\n",
       "| 26 | 82 | 13.1 | 47.1 | not fire |\n",
       "| 25 | 89 |  2.5 | 28.6 | not fire |\n",
       "| ⋮ | ⋮ | ⋮ | ⋮ | ⋮ |\n",
       "| 30 | 65 | 0.0 | 85.4 | fire     |\n",
       "| 28 | 87 | 4.4 | 41.1 | not fire |\n",
       "| 27 | 87 | 0.5 | 45.9 | not fire |\n",
       "| 24 | 54 | 0.1 | 79.7 | not fire |\n",
       "\n"
      ],
      "text/plain": [
       "    Temperature RH Rain FFMC Classes \n",
       "1   29          57  0.0 65.7 not fire\n",
       "2   29          61  1.3 64.4 not fire\n",
       "3   26          82 13.1 47.1 not fire\n",
       "4   25          89  2.5 28.6 not fire\n",
       "⋮   ⋮           ⋮  ⋮    ⋮    ⋮       \n",
       "156 30          65 0.0  85.4 fire    \n",
       "157 28          87 4.4  41.1 not fire\n",
       "158 27          87 0.5  45.9 not fire\n",
       "159 24          54 0.1  79.7 not fire"
      ]
     },
     "metadata": {},
     "output_type": "display_data"
    }
   ],
   "source": [
    "## Create training dataset\n",
    "\n",
    "forest_fire_split <- algeria_forest_fire_all_data %>%\n",
    "    select(Temperature, RH, Rain, FFMC, Classes) %>%\n",
    "    initial_split(prop = 0.65, strata = Classes)\n",
    "forest_fire_train <- training(forest_fire_split)\n",
    "forest_fire_test <- testing(forest_fire_split)\n",
    "\n",
    "forest_fire_train"
   ]
  },
  {
   "cell_type": "markdown",
   "metadata": {},
   "source": [
    "The following table summarizes the predictors’ means and the number of observations for each of the classes. The classes are approximately balanced, with more observations of fire. Days with fire display higher mean temperatures, lower mean relative humidity, higher mean FFMC, and lower mean rainfall."
   ]
  },
  {
   "cell_type": "code",
   "execution_count": 8,
   "metadata": {},
   "outputs": [
    {
     "name": "stderr",
     "output_type": "stream",
     "text": [
      "`summarise()` ungrouping output (override with `.groups` argument)\n",
      "\n"
     ]
    },
    {
     "data": {
      "text/html": [
       "<table>\n",
       "<caption>A tibble: 2 × 6</caption>\n",
       "<thead>\n",
       "\t<tr><th scope=col>Classes</th><th scope=col>mean_temp</th><th scope=col>mean_RH</th><th scope=col>mean_rain</th><th scope=col>mean_FFMC</th><th scope=col>obs_count</th></tr>\n",
       "\t<tr><th scope=col>&lt;fct&gt;</th><th scope=col>&lt;dbl&gt;</th><th scope=col>&lt;dbl&gt;</th><th scope=col>&lt;dbl&gt;</th><th scope=col>&lt;dbl&gt;</th><th scope=col>&lt;int&gt;</th></tr>\n",
       "</thead>\n",
       "<tbody>\n",
       "\t<tr><td>not fire</td><td>29.75362</td><td>69.92754</td><td>1.65652174</td><td>64.85072</td><td>69</td></tr>\n",
       "\t<tr><td>fire    </td><td>33.85556</td><td>56.26667</td><td>0.04888889</td><td>87.47889</td><td>90</td></tr>\n",
       "</tbody>\n",
       "</table>\n"
      ],
      "text/latex": [
       "A tibble: 2 × 6\n",
       "\\begin{tabular}{llllll}\n",
       " Classes & mean\\_temp & mean\\_RH & mean\\_rain & mean\\_FFMC & obs\\_count\\\\\n",
       " <fct> & <dbl> & <dbl> & <dbl> & <dbl> & <int>\\\\\n",
       "\\hline\n",
       "\t not fire & 29.75362 & 69.92754 & 1.65652174 & 64.85072 & 69\\\\\n",
       "\t fire     & 33.85556 & 56.26667 & 0.04888889 & 87.47889 & 90\\\\\n",
       "\\end{tabular}\n"
      ],
      "text/markdown": [
       "\n",
       "A tibble: 2 × 6\n",
       "\n",
       "| Classes &lt;fct&gt; | mean_temp &lt;dbl&gt; | mean_RH &lt;dbl&gt; | mean_rain &lt;dbl&gt; | mean_FFMC &lt;dbl&gt; | obs_count &lt;int&gt; |\n",
       "|---|---|---|---|---|---|\n",
       "| not fire | 29.75362 | 69.92754 | 1.65652174 | 64.85072 | 69 |\n",
       "| fire     | 33.85556 | 56.26667 | 0.04888889 | 87.47889 | 90 |\n",
       "\n"
      ],
      "text/plain": [
       "  Classes  mean_temp mean_RH  mean_rain  mean_FFMC obs_count\n",
       "1 not fire 29.75362  69.92754 1.65652174 64.85072  69       \n",
       "2 fire     33.85556  56.26667 0.04888889 87.47889  90       "
      ]
     },
     "metadata": {},
     "output_type": "display_data"
    }
   ],
   "source": [
    "## Explore means of predictor variables and the number of observations in each category\n",
    "\n",
    "means <- forest_fire_train %>%\n",
    "    group_by(Classes) %>%\n",
    "    summarize(mean_temp = mean(Temperature),\n",
    "             mean_RH = mean(RH),\n",
    "             mean_rain = mean(Rain),\n",
    "             mean_FFMC = mean(FFMC),\n",
    "             obs_count = n())\n",
    "\n",
    "means"
   ]
  },
  {
   "cell_type": "code",
   "execution_count": 9,
   "metadata": {},
   "outputs": [],
   "source": [
    "options(repr.plot.width = 8, repr.plot.height = 6)"
   ]
  },
  {
   "cell_type": "markdown",
   "metadata": {},
   "source": [
    "Next, we compare the distribution of the predictors between the 2 classes, examining differences which might suggest how each variable relates to fire incidence by constructing histograms for each predictor."
   ]
  },
  {
   "cell_type": "code",
   "execution_count": 13,
   "metadata": {},
   "outputs": [
    {
     "name": "stderr",
     "output_type": "stream",
     "text": [
      "`stat_bin()` using `bins = 30`. Pick better value with `binwidth`.\n",
      "\n"
     ]
    },
    {
     "data": {
      "image/png": "[encoded data removed]",
      "text/plain": [
       "plot without title"
      ]
     },
     "metadata": {
      "image/png": {
       "height": 360,
       "width": 480
      }
     },
     "output_type": "display_data"
    }
   ],
   "source": [
    "# Plot distribution of 'temperature' predictor on days with and without fire\n",
    "Classes.labs <- c(\"No Fire\", \"Fire\")\n",
    "names(Classes.labs) <- c(\"not fire\", \"fire\")\n",
    "\n",
    "\n",
    "temp_distribution_plot_fire <- forest_fire_train %>%\n",
    "    ggplot(aes(x = Temperature)) +\n",
    "    geom_histogram() +\n",
    "    labs(x = \"Temperature (degrees Celsius)\", y = \"Frequency\", title = \"Histogram of Temperature Measurements\") +\n",
    "    facet_grid(Classes ~ ., labeller = labeller(Classes = Classes.labs)) +\n",
    "    theme(text = element_text(size = 20))\n",
    "\n",
    "temp_distribution_plot_fire"
   ]
  },
  {
   "cell_type": "markdown",
   "metadata": {},
   "source": [
    "This histogram supports that higher temperatures may be related to fire, since the distribution for the \"fire\" class is centered approximately 5°C higher.\n"
   ]
  },
  {
   "cell_type": "code",
   "execution_count": 14,
   "metadata": {},
   "outputs": [
    {
     "name": "stderr",
     "output_type": "stream",
     "text": [
      "`stat_bin()` using `bins = 30`. Pick better value with `binwidth`.\n",
      "\n"
     ]
    },
    {
     "data": {
      "image/png": "[encoded data removed]",
      "text/plain": [
       "plot without title"
      ]
     },
     "metadata": {
      "image/png": {
       "height": 360,
       "width": 480
      }
     },
     "output_type": "display_data"
    }
   ],
   "source": [
    "## Plot distribution of 'relative humidity' predictor on days with and without fire\n",
    "\n",
    "RH_distribution_plot_fire <- forest_fire_train %>%\n",
    "    ggplot(aes(x = RH)) +\n",
    "    geom_histogram() +\n",
    "    labs(x = \"Relative Humidity (%)\", y = \"Frequency\", title = \"Histogram of Relative Humidity Measurements\") +\n",
    "    facet_grid(Classes ~ .) +\n",
    "    theme(text = element_text(size = 20))\n",
    "\n",
    "RH_distribution_plot_fire"
   ]
  },
  {
   "cell_type": "markdown",
   "metadata": {},
   "source": [
    "Days with no fire have consistently higher relative humidity, whereas relative humidity varies greatly on days with fires."
   ]
  },
  {
   "cell_type": "code",
   "execution_count": 37,
   "metadata": {},
   "outputs": [
    {
     "name": "stderr",
     "output_type": "stream",
     "text": [
      "`stat_bin()` using `bins = 30`. Pick better value with `binwidth`.\n",
      "\n"
     ]
    },
    {
     "data": {
      "image/png": "[encoded data removed]",
      "text/plain": [
       "plot without title"
      ]
     },
     "metadata": {
      "image/png": {
       "height": 360,
       "width": 480
      }
     },
     "output_type": "display_data"
    }
   ],
   "source": [
    "## Plot distribution of 'rainfall' predictor on days with and without fire\n",
    "\n",
    "rain_distribution_plot_fire <- forest_fire_train %>%\n",
    "    ggplot(aes(x = Rain)) +\n",
    "    geom_histogram() +\n",
    "    labs(x = \"Rainfall (mm)\", y = \"Frequency\") +\n",
    "    facet_grid(Classes ~ .) +\n",
    "    theme(text = element_text(size = 20))\n",
    "\n",
    "rain_distribution_plot_fire"
   ]
  },
  {
   "cell_type": "markdown",
   "metadata": {},
   "source": [
    "Days with fire have minimal rainfall, whereas rainfall varies from 0 to 20 mm on days without fire.\n"
   ]
  },
  {
   "cell_type": "code",
   "execution_count": 38,
   "metadata": {},
   "outputs": [
    {
     "name": "stderr",
     "output_type": "stream",
     "text": [
      "`stat_bin()` using `bins = 30`. Pick better value with `binwidth`.\n",
      "\n"
     ]
    },
    {
     "data": {
      "image/png": "[encoded data removed]",
      "text/plain": [
       "plot without title"
      ]
     },
     "metadata": {
      "image/png": {
       "height": 360,
       "width": 480
      }
     },
     "output_type": "display_data"
    }
   ],
   "source": [
    "## Plot distribution of 'Fine Fuel Moisture Code' predictor on days with and without fire\n",
    "\n",
    "FFMC_distribution_plot_fire <- forest_fire_train %>%\n",
    "    ggplot(aes(x = FFMC)) +\n",
    "    geom_histogram() +\n",
    "    labs(x = \"Fine Fuel Moisture Code (FFMC)\", y = \"Frequency\") +\n",
    "    facet_grid(Classes ~ .) +\n",
    "    theme(text = element_text(size = 20))\n",
    "\n",
    "FFMC_distribution_plot_fire"
   ]
  },
  {
   "cell_type": "markdown",
   "metadata": {},
   "source": [
    "For all classifications of “fire,” FFMC is greater than 80. This suggests that FFMC may be an excellent predictor of fire, with FFMC ≈ 80 separating the two classes."
   ]
  },
  {
   "cell_type": "code",
   "execution_count": 39,
   "metadata": {},
   "outputs": [],
   "source": [
    "options(repr.plot.width = 7, repr.plot.height = 6)"
   ]
  },
  {
   "cell_type": "markdown",
   "metadata": {},
   "source": [
    "## Methods"
   ]
  },
  {
   "cell_type": "markdown",
   "metadata": {},
   "source": [
    "We plan to use a k-nearest neighbours classification algorithm with cross-validation to predict whether there will be a fire on a given day. As BUI, ISI, and FWI, characterize fire behaviour, we decided that they would not be helpful in predicting the fire likelihood.  From the exploratory analysis, patterns appear in the values of temperature, humidity, rain, and FFMC based upon the fire classification; therefore, these will be the variables included in our algorithm. The results will be shown with scatterplots of the data, the predictors as axes, and colored by classification."
   ]
  },
  {
   "cell_type": "markdown",
   "metadata": {},
   "source": [
    "## Expected Outcomes and Significance"
   ]
  },
  {
   "cell_type": "markdown",
   "metadata": {},
   "source": [
    "We anticipate that FFMC will be the strongest predictor of fire due to the distinct separation in values observed in the histogram. It is expected that higher temperature, lower humidity, and minimal rain correspond to an incident of fire. \n",
    "\n",
    "Our findings may assist in determining whether a fire will occur based on bioclimatic conditions. This knowledge could improve interventions to prevent forest fires, protecting the ecosystems and residents of these regions.\n",
    "\n",
    "The causes of forest fires in Algeria are widely unknown; in 2020, causation for 85% of fires were unknown (Pons, 2020). However, our data analysis could lead to asking whether rainfall, temperature, humidity, or FFMC has a direct causality to fire incidence."
   ]
  },
  {
   "cell_type": "markdown",
   "metadata": {},
   "source": [
    "## References"
   ]
  },
  {
   "cell_type": "markdown",
   "metadata": {},
   "source": [
    "Aini, A., Curt, T., Bekdouche, F. (2020). Modelling fire hazard in the southern Mediterranean fire rim (Bejaia region, northern Algeria). Retrieved March 03, 2021, from\n",
    "https://link.springer.com/article/10.1007/s10661-019-7931-0#Sec1\n",
    "\n",
    "Curt, T., Aini, A., Dupire, S. (2020). Fire activity in Mediterranean forests (The Algerian case). Retrieved March 03, 2021, from\n",
    "https://www.mendeley.com/catalogue/0ad59940-c469-388c-8796-0685cacb334f/\n",
    "\n",
    "De Groot, W. J. (1987, April 2). Interpreting the Canadian Forest Fire Weather Index (FWI) System. Retrieved March 03, 2021, from\n",
    "http://www.dnr.state.mi.us/WWW/FMD/WEATHER/Reference/FWI_Background.pdf\n",
    "\n",
    "Pons, J. (2020, June 29). Algeria declares land and space war on forest fires. Retrieved March 03, 2021, from https://atalayar.com/en/content/algeria-declares-land-and-space-war-forest-fires"
   ]
  },
  {
   "cell_type": "code",
   "execution_count": null,
   "metadata": {},
   "outputs": [],
   "source": []
  }
 ],
 "metadata": {
  "kernelspec": {
   "display_name": "R",
   "language": "R",
   "name": "ir"
  },
  "language_info": {
   "codemirror_mode": "r",
   "file_extension": ".r",
   "mimetype": "text/x-r-source",
   "name": "R",
   "pygments_lexer": "r",
   "version": "4.0.0"
  }
 },
 "nbformat": 4,
 "nbformat_minor": 4
}
